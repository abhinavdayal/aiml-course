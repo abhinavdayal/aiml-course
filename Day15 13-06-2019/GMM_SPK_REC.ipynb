{
  "nbformat": 4,
  "nbformat_minor": 0,
  "metadata": {
    "colab": {
      "name": "Copy of GMM_SPK_REC.ipynb",
      "version": "0.3.2",
      "provenance": [],
      "collapsed_sections": []
    },
    "kernelspec": {
      "name": "python3",
      "display_name": "Python 3"
    }
  },
  "cells": [
    {
      "cell_type": "code",
      "metadata": {
        "id": "huS22KqQ3OpM",
        "colab_type": "code",
        "outputId": "6047f826-99aa-4c2e-d60c-8c0032dd7f9a",
        "colab": {
          "base_uri": "https://localhost:8080/",
          "height": 34
        }
      },
      "source": [
        "from google.colab import drive\n",
        "drive.mount(\"/content/gdrive\")\n"
      ],
      "execution_count": 0,
      "outputs": [
        {
          "output_type": "stream",
          "text": [
            "Drive already mounted at /content/gdrive; to attempt to forcibly remount, call drive.mount(\"/content/gdrive\", force_remount=True).\n"
          ],
          "name": "stdout"
        }
      ]
    },
    {
      "cell_type": "code",
      "metadata": {
        "id": "QbH4oeUe395M",
        "colab_type": "code",
        "outputId": "4673e84f-87c5-43f5-9076-cfafcd76a952",
        "colab": {
          "base_uri": "https://localhost:8080/",
          "height": 180
        }
      },
      "source": [
        "import os\n",
        "os.chdir(\"GMM_Speaker_Recognition\")"
      ],
      "execution_count": 0,
      "outputs": [
        {
          "output_type": "error",
          "ename": "FileNotFoundError",
          "evalue": "ignored",
          "traceback": [
            "\u001b[0;31m---------------------------------------------------------------------------\u001b[0m",
            "\u001b[0;31mFileNotFoundError\u001b[0m                         Traceback (most recent call last)",
            "\u001b[0;32m<ipython-input-38-f5f0026bc70a>\u001b[0m in \u001b[0;36m<module>\u001b[0;34m()\u001b[0m\n\u001b[1;32m      1\u001b[0m \u001b[0;32mimport\u001b[0m \u001b[0mos\u001b[0m\u001b[0;34m\u001b[0m\u001b[0;34m\u001b[0m\u001b[0m\n\u001b[0;32m----> 2\u001b[0;31m \u001b[0mos\u001b[0m\u001b[0;34m.\u001b[0m\u001b[0mchdir\u001b[0m\u001b[0;34m(\u001b[0m\u001b[0;34m\"GMM_Speaker_Recognition\"\u001b[0m\u001b[0;34m)\u001b[0m\u001b[0;34m\u001b[0m\u001b[0;34m\u001b[0m\u001b[0m\n\u001b[0m",
            "\u001b[0;31mFileNotFoundError\u001b[0m: [Errno 2] No such file or directory: 'GMM_Speaker_Recognition'"
          ]
        }
      ]
    },
    {
      "cell_type": "code",
      "metadata": {
        "id": "oz-GjMYC5lMe",
        "colab_type": "code",
        "colab": {}
      },
      "source": [
        "!ls\n"
      ],
      "execution_count": 0,
      "outputs": []
    },
    {
      "cell_type": "markdown",
      "metadata": {
        "id": "z5zSypvr5sls",
        "colab_type": "text"
      },
      "source": [
        "import numpy as np\n",
        "import matplotlib.pyplot as plt\n",
        "from sklearn.mixture import GaussianMixture\n",
        "import pickle\n",
        "import sys\n",
        "import os\n",
        "import wave\n",
        "import timeit; program_start_time = timeit.default_timer()\n",
        "import random; random.seed(int(timeit.default_timer()))\n",
        "import numpy as np\n",
        "import scipy.io.wavfile as wav\n",
        "import python_speech_features as features"
      ]
    },
    {
      "cell_type": "code",
      "metadata": {
        "id": "cmJ6dZYz5uk-",
        "colab_type": "code",
        "colab": {}
      },
      "source": [
        "import numpy as np\n",
        "import matplotlib.pyplot as plt\n",
        "from sklearn.mixture import GaussianMixture\n",
        "import pickle\n",
        "import sys\n",
        "import os\n",
        "import wave\n",
        "import timeit; program_start_time = timeit.default_timer()\n",
        "import random; random.seed(int(timeit.default_timer()))\n",
        "import numpy as np\n",
        "import scipy.io.wavfile as wav\n",
        "import python_speech_features as features"
      ],
      "execution_count": 0,
      "outputs": []
    },
    {
      "cell_type": "code",
      "metadata": {
        "id": "WPO3IUw66CmI",
        "colab_type": "code",
        "colab": {}
      },
      "source": [
        "def create_mfcc(filename):\n",
        "\t(rate,sample) = wav.read(filename)\n",
        "\n",
        "\tmfcc = features.mfcc(sample, rate, winlen=0.025, winstep=0.01, numcep = 13, nfilt=26,\n",
        "\tpreemph=0.97, appendEnergy=True)\n",
        "\td_mfcc = features.delta(mfcc, 2)\n",
        "\ta_mfcc = features.delta(d_mfcc, 2)\n",
        "\n",
        "\tout = np.concatenate([mfcc, d_mfcc, a_mfcc], axis=1)\n",
        "\n",
        "\treturn out"
      ],
      "execution_count": 0,
      "outputs": []
    },
    {
      "cell_type": "code",
      "metadata": {
        "id": "XBP6L5kU6I7S",
        "colab_type": "code",
        "colab": {}
      },
      "source": [
        "def data_preparation(folder):\n",
        "  wav_list=os.listdir(\"Data/\"+folder)\n",
        "  print(wav_list,folder)\n",
        "  data=[]\n",
        "  for wav in wav_list:\n",
        "   d=create_mfcc(\"Data/\"+folder+\"/\"+wav)\n",
        "   data.append(d)\n",
        "  return data\n",
        "\n",
        "data_spk={}\n",
        "list_spk=os.listdir(\"Data\")\n",
        "list_gmm={}"
      ],
      "execution_count": 0,
      "outputs": []
    },
    {
      "cell_type": "code",
      "metadata": {
        "id": "UK2dh9OQ6U1w",
        "colab_type": "code",
        "colab": {}
      },
      "source": [
        "for i in range(0,10):\n",
        " data_spk[list_spk[i]]=np.vstack(data_preparation(list_spk[i]))\n",
        " list_gmm[list_spk[i]]=GaussianMixture(n_components=10,max_iter=100000,covariance_type='diag',verbose=2)\n",
        " list_gmm[list_spk[i]].fit(data_spk[list_spk[i]])\n",
        " pickle.dump(list_gmm[list_spk[i]], open(list_spk[i], 'wb'))"
      ],
      "execution_count": 0,
      "outputs": []
    },
    {
      "cell_type": "code",
      "metadata": {
        "id": "FLv5ZMuY6vkm",
        "colab_type": "code",
        "colab": {}
      },
      "source": [
        "list_gmm\n"
      ],
      "execution_count": 0,
      "outputs": []
    },
    {
      "cell_type": "code",
      "metadata": {
        "id": "MuppsNbe7JNt",
        "colab_type": "code",
        "outputId": "276a5dd0-2992-4bcc-ec61-540a4ca9b803",
        "colab": {
          "base_uri": "https://localhost:8080/",
          "height": 571
        }
      },
      "source": [
        "#!/usr/bin/env python\n",
        "# -*- coding: utf-8 -*-\n",
        "import python_speech_features as features\n",
        "from sklearn.mixture import GaussianMixture\n",
        "import pickle\n",
        "\n",
        "def create_mfcc(filename):\n",
        "\t(rate,sample) = wav.read(filename)\n",
        "\n",
        "\tmfcc = features.mfcc(sample, rate, winlen=0.025, winstep=0.01, numcep = 13, nfilt=26,\n",
        "\tpreemph=0.97, appendEnergy=True)\n",
        "\td_mfcc = features.delta(mfcc, 2)\n",
        "\ta_mfcc = features.delta(d_mfcc, 2)\n",
        "\n",
        "\tout = np.concatenate([mfcc, d_mfcc, a_mfcc], axis=1)\n",
        "\n",
        "\treturn out\n",
        "features=create_mfcc(\"Test/00001_70.wav\")\n",
        "model_list=os.listdir(\"Models\")\n",
        "per_sample_avg_loglike={}\n",
        "for model in model_list:\n",
        " with open(\"Models/\"+model,'rb') as m:\n",
        "  mdl = pickle.load(m)\n",
        "  print(mdl.weights_)\n",
        "  per_sample_avg_loglike[str(model)]=mdl.score(features)"
      ],
      "execution_count": 0,
      "outputs": [
        {
          "output_type": "stream",
          "text": [
            "[0.08619404 0.08853511 0.14487657 0.1203005  0.09744275 0.0607787\n",
            " 0.12039787 0.08235231 0.08950411 0.10961804]\n",
            "[0.17583776 0.0842328  0.04865459 0.14502158 0.05424793 0.11489488\n",
            " 0.11479089 0.09373109 0.10566331 0.06292517]\n",
            "[0.09555173 0.08129684 0.08737173 0.08828811 0.10016807 0.149513\n",
            " 0.10532838 0.09156222 0.05813557 0.14278434]\n",
            "[0.15479591 0.09898742 0.08352814 0.06155881 0.10025867 0.07918335\n",
            " 0.13728122 0.07343371 0.13498992 0.07598286]\n",
            "[0.08836919 0.077203   0.13554321 0.05899958 0.08967586 0.08250286\n",
            " 0.08318322 0.12367984 0.16267124 0.098172  ]\n",
            "[0.11524127 0.10753635 0.0774532  0.07652544 0.02739732 0.09629\n",
            " 0.09442764 0.14185111 0.19986066 0.06341701]\n",
            "[0.08200225 0.12745046 0.09410502 0.18242964 0.05076171 0.07022488\n",
            " 0.19786563 0.05690632 0.0714056  0.06684849]\n",
            "[0.11882536 0.07535428 0.14313807 0.07358519 0.1212827  0.07128703\n",
            " 0.11141749 0.08863678 0.12294146 0.07353164]\n",
            "[0.09380662 0.15640364 0.15055884 0.08728885 0.07982548 0.06585528\n",
            " 0.07252465 0.13219181 0.09628494 0.06525989]\n",
            "[0.04924465 0.07480691 0.0893861  0.16687036 0.0816987  0.06588824\n",
            " 0.09679691 0.12417618 0.10202782 0.14910414]\n"
          ],
          "name": "stdout"
        },
        {
          "output_type": "error",
          "ename": "IsADirectoryError",
          "evalue": "ignored",
          "traceback": [
            "\u001b[0;31m---------------------------------------------------------------------------\u001b[0m",
            "\u001b[0;31mIsADirectoryError\u001b[0m                         Traceback (most recent call last)",
            "\u001b[0;32m<ipython-input-60-f8a0772b6685>\u001b[0m in \u001b[0;36m<module>\u001b[0;34m()\u001b[0m\n\u001b[1;32m     18\u001b[0m \u001b[0mper_sample_avg_loglike\u001b[0m\u001b[0;34m=\u001b[0m\u001b[0;34m{\u001b[0m\u001b[0;34m}\u001b[0m\u001b[0;34m\u001b[0m\u001b[0;34m\u001b[0m\u001b[0m\n\u001b[1;32m     19\u001b[0m \u001b[0;32mfor\u001b[0m \u001b[0mmodel\u001b[0m \u001b[0;32min\u001b[0m \u001b[0mmodel_list\u001b[0m\u001b[0;34m:\u001b[0m\u001b[0;34m\u001b[0m\u001b[0;34m\u001b[0m\u001b[0m\n\u001b[0;32m---> 20\u001b[0;31m  \u001b[0;32mwith\u001b[0m \u001b[0mopen\u001b[0m\u001b[0;34m(\u001b[0m\u001b[0;34m\"Models/\"\u001b[0m\u001b[0;34m+\u001b[0m\u001b[0mmodel\u001b[0m\u001b[0;34m,\u001b[0m\u001b[0;34m'rb'\u001b[0m\u001b[0;34m)\u001b[0m \u001b[0;32mas\u001b[0m \u001b[0mm\u001b[0m\u001b[0;34m:\u001b[0m\u001b[0;34m\u001b[0m\u001b[0;34m\u001b[0m\u001b[0m\n\u001b[0m\u001b[1;32m     21\u001b[0m   \u001b[0mmdl\u001b[0m \u001b[0;34m=\u001b[0m \u001b[0mpickle\u001b[0m\u001b[0;34m.\u001b[0m\u001b[0mload\u001b[0m\u001b[0;34m(\u001b[0m\u001b[0mm\u001b[0m\u001b[0;34m)\u001b[0m\u001b[0;34m\u001b[0m\u001b[0;34m\u001b[0m\u001b[0m\n\u001b[1;32m     22\u001b[0m   \u001b[0mprint\u001b[0m\u001b[0;34m(\u001b[0m\u001b[0mmdl\u001b[0m\u001b[0;34m.\u001b[0m\u001b[0mweights_\u001b[0m\u001b[0;34m)\u001b[0m\u001b[0;34m\u001b[0m\u001b[0;34m\u001b[0m\u001b[0m\n",
            "\u001b[0;31mIsADirectoryError\u001b[0m: [Errno 21] Is a directory: 'Models/.ipynb_checkpoints'"
          ]
        }
      ]
    },
    {
      "cell_type": "code",
      "metadata": {
        "id": "Ou5ZJS4rBB6m",
        "colab_type": "code",
        "outputId": "f00f4a17-205b-464f-90a5-79c6b6156727",
        "colab": {
          "base_uri": "https://localhost:8080/",
          "height": 187
        }
      },
      "source": [
        "per_sample_avg_loglike\n"
      ],
      "execution_count": 0,
      "outputs": [
        {
          "output_type": "execute_result",
          "data": {
            "text/plain": [
              "{'id10270': -91.17842340805034,\n",
              " 'id10271': -98.38028468721461,\n",
              " 'id10275': -96.03550616801803,\n",
              " 'id10276': -95.03014626644278,\n",
              " 'id10278': -98.86791865320917,\n",
              " 'id10279': -95.7525076783682,\n",
              " 'id10280': -95.9146641513985,\n",
              " 'id10284': -95.63128538183047,\n",
              " 'id10289': -94.74718928839447,\n",
              " 'id10303': -94.0340338232354}"
            ]
          },
          "metadata": {
            "tags": []
          },
          "execution_count": 61
        }
      ]
    }
  ]
}