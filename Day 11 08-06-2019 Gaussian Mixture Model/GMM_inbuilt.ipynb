{
  "nbformat": 4,
  "nbformat_minor": 0,
  "metadata": {
    "colab": {
      "name": "GMM_inbuilt.ipynb",
      "version": "0.3.2",
      "provenance": []
    },
    "kernelspec": {
      "name": "python3",
      "display_name": "Python 3"
    }
  },
  "cells": [
    {
      "cell_type": "code",
      "metadata": {
        "id": "6uONgAU1OAFP",
        "colab_type": "code",
        "colab": {}
      },
      "source": [
        "import numpy as np\n",
        "from matplotlib import pyplot as plt\n",
        "import random\n",
        "from matplotlib import cm\n",
        "\n",
        "from sklearn.mixture import GaussianMixture\n",
        "from sklearn import datasets\n",
        "from sklearn import decomposition"
      ],
      "execution_count": 0,
      "outputs": []
    },
    {
      "cell_type": "markdown",
      "metadata": {
        "id": "J3AKuneOOcmG",
        "colab_type": "text"
      },
      "source": [
        "Load dataset"
      ]
    },
    {
      "cell_type": "code",
      "metadata": {
        "id": "xX4TicO_OWiR",
        "colab_type": "code",
        "colab": {}
      },
      "source": [
        "(x,y) = datasets.load_iris(return_X_y=True)\n",
        "num_of_gaussians = 3"
      ],
      "execution_count": 0,
      "outputs": []
    },
    {
      "cell_type": "markdown",
      "metadata": {
        "id": "NR5EdvQEO4HS",
        "colab_type": "text"
      },
      "source": [
        "Generate multivariate gaussian data for given mean and covariance"
      ]
    },
    {
      "cell_type": "code",
      "metadata": {
        "id": "Nb2adaKPO2s7",
        "colab_type": "code",
        "colab": {}
      },
      "source": [
        "def generate_multivariate_gaussian_data(mean,cov,n):\n",
        "    return np.random.multivariate_normal(mean,cov,n)"
      ],
      "execution_count": 0,
      "outputs": []
    },
    {
      "cell_type": "markdown",
      "metadata": {
        "id": "oSv6VhiBSX2L",
        "colab_type": "text"
      },
      "source": [
        "Principal Component Analysis on 'n' -dimension with highest n eigen-values"
      ]
    },
    {
      "cell_type": "code",
      "metadata": {
        "id": "S5il6cACRKWs",
        "colab_type": "code",
        "colab": {}
      },
      "source": [
        "def PCA_projection(x):\n",
        "\n",
        "    pca = decomposition.PCA(n_components=2)\n",
        "    pca.fit(x)\n",
        "    return pca.transform(x)"
      ],
      "execution_count": 0,
      "outputs": []
    },
    {
      "cell_type": "code",
      "metadata": {
        "id": "HrkxFtieQSf9",
        "colab_type": "code",
        "colab": {}
      },
      "source": [
        "def plot_func(x,col):\n",
        "    plt.scatter(x[:,0],x[:,1],color=col)"
      ],
      "execution_count": 0,
      "outputs": []
    },
    {
      "cell_type": "markdown",
      "metadata": {
        "id": "-s9NZhTuSnsq",
        "colab_type": "text"
      },
      "source": [
        "Projection of data 'x' and random shuffling of 'x'"
      ]
    },
    {
      "cell_type": "code",
      "metadata": {
        "id": "RyjGVCpvQoiq",
        "colab_type": "code",
        "colab": {}
      },
      "source": [
        "x_projected = []\n",
        "x_projected = PCA_projection(x) \n",
        "\n",
        "population = 'Fill in the blank' \n",
        "x_projected = x_projected[population]\n",
        "y = y[population]"
      ],
      "execution_count": 0,
      "outputs": []
    },
    {
      "cell_type": "markdown",
      "metadata": {
        "id": "u3_hvwenOf8X",
        "colab_type": "text"
      },
      "source": [
        "Call the inbuilt Gaussian Mixture from sklearn"
      ]
    },
    {
      "cell_type": "code",
      "metadata": {
        "id": "YRBhmaZ7ODM9",
        "colab_type": "code",
        "colab": {
          "base_uri": "https://localhost:8080/",
          "height": 88
        },
        "outputId": "8fef18c9-3aa1-4348-f94e-00394d3afd85"
      },
      "source": [
        "gmm = GaussianMixture(n_components=num_of_gaussians)\n",
        "gmm.fit(X)"
      ],
      "execution_count": 22,
      "outputs": [
        {
          "output_type": "execute_result",
          "data": {
            "text/plain": [
              "GaussianMixture(covariance_type='full', init_params='kmeans', max_iter=100,\n",
              "        means_init=None, n_components=3, n_init=1, precisions_init=None,\n",
              "        random_state=None, reg_covar=1e-06, tol=0.001, verbose=0,\n",
              "        verbose_interval=10, warm_start=False, weights_init=None)"
            ]
          },
          "metadata": {
            "tags": []
          },
          "execution_count": 22
        }
      ]
    },
    {
      "cell_type": "markdown",
      "metadata": {
        "id": "OvCFesZCS0XZ",
        "colab_type": "text"
      },
      "source": [
        "Loading Means and Covariances of the learnt gaussian"
      ]
    },
    {
      "cell_type": "code",
      "metadata": {
        "id": "46JhOX_zOmQU",
        "colab_type": "code",
        "colab": {
          "base_uri": "https://localhost:8080/",
          "height": 356
        },
        "outputId": "9699d06c-4f60-4dac-a4aa-13fb4eb243b8"
      },
      "source": [
        "mu = gmm.means_\n",
        "sigma = gmm.covariances_ \n",
        "print(mu)\n",
        "print('\\n')\n",
        "print(sigma)"
      ],
      "execution_count": 23,
      "outputs": [
        {
          "output_type": "stream",
          "text": [
            "[[6.54639415 2.94946365 5.48364578 1.98726565]\n",
            " [5.006      3.428      1.462      0.246     ]\n",
            " [5.9170732  2.77804839 4.20540364 1.29848217]]\n",
            "\n",
            "\n",
            "[[[0.38744093 0.09223276 0.30244302 0.06087397]\n",
            "  [0.09223276 0.11040914 0.08385112 0.05574334]\n",
            "  [0.30244302 0.08385112 0.32589574 0.07276776]\n",
            "  [0.06087397 0.05574334 0.07276776 0.08484505]]\n",
            "\n",
            " [[0.121765   0.097232   0.016028   0.010124  ]\n",
            "  [0.097232   0.140817   0.011464   0.009112  ]\n",
            "  [0.016028   0.011464   0.029557   0.005948  ]\n",
            "  [0.010124   0.009112   0.005948   0.010885  ]]\n",
            "\n",
            " [[0.2755171  0.09662295 0.18547072 0.05478901]\n",
            "  [0.09662295 0.09255152 0.09103431 0.04299899]\n",
            "  [0.18547072 0.09103431 0.20235849 0.06171383]\n",
            "  [0.05478901 0.04299899 0.06171383 0.03233775]]]\n"
          ],
          "name": "stdout"
        }
      ]
    },
    {
      "cell_type": "code",
      "metadata": {
        "id": "7FB0BQxAQzpS",
        "colab_type": "code",
        "colab": {
          "base_uri": "https://localhost:8080/",
          "height": 269
        },
        "outputId": "40c83c1c-28b3-42c0-a226-b72efe6c9d63"
      },
      "source": [
        "plot_func(x_projected[np.where(y==0)[0]],[0,0,1])\n",
        "plot_func(x_projected[np.where(y==1)[0]],[0,1,0])\n",
        "plot_func(x_projected[np.where(y==2)[0]],[1,0,0])\n",
        "\n",
        "plt.show()"
      ],
      "execution_count": 24,
      "outputs": [
        {
          "output_type": "display_data",
          "data": {
            "image/png": "[encoded data removed]",
            "text/plain": [
              "<Figure size 432x288 with 1 Axes>"
            ]
          },
          "metadata": {
            "tags": []
          }
        }
      ]
    },
    {
      "cell_type": "code",
      "metadata": {
        "id": "r_ZrDJuVPkfg",
        "colab_type": "code",
        "colab": {
          "base_uri": "https://localhost:8080/",
          "height": 269
        },
        "outputId": "756098bc-2e75-41a0-d676-c6935b206927"
      },
      "source": [
        "data = []\n",
        "no_of_points = 50\n",
        "\n",
        "for i in range(0,num_of_gaussians):\n",
        "    data.extend(list(generate_multivariate_gaussian_data(mu[i],sigma[i], no_of_points)))\n",
        "\n",
        "data = np.array(data)\n",
        "\n",
        "pca = decomposition.PCA('Fill in the blank')\n",
        "pca.fit(data)\n",
        "data = pca.transform(data)\n",
        "\n",
        "for i in range(0,num_of_gaussians):    \n",
        "    arr=[1/(i+1),1/(i+2),1/(i+3)]    \n",
        "    plot_func(data[i*no_of_points:(i+1)*no_of_points], random.shuffle(arr))\n",
        "\n",
        "plt.show()"
      ],
      "execution_count": 30,
      "outputs": [
        {
          "output_type": "display_data",
          "data": {
            "image/png": "[encoded data removed]",
            "text/plain": [
              "<Figure size 432x288 with 1 Axes>"
            ]
          },
          "metadata": {
            "tags": []
          }
        }
      ]
    }
  ]
}