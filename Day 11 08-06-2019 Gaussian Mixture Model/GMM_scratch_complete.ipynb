{
  "nbformat": 4,
  "nbformat_minor": 0,
  "metadata": {
    "colab": {
      "name": "GMM_scratch_complete.ipynb",
      "version": "0.3.2",
      "provenance": []
    },
    "kernelspec": {
      "name": "python3",
      "display_name": "Python 3"
    }
  },
  "cells": [
    {
      "cell_type": "code",
      "metadata": {
        "id": "UPtCHt8pTkwO",
        "colab_type": "code",
        "colab": {}
      },
      "source": [
        "'''\n",
        "   Expectation Maximization on iris data\n",
        "   Using a diagonal covariance matrix and not full covariance matrix\n",
        "'''\n",
        "\n",
        "import numpy as np\n",
        "from matplotlib import pyplot as plt\n",
        "import random\n",
        "from scipy.interpolate import griddata\n",
        "from matplotlib import cm\n",
        "import copy\n",
        "\n",
        "from sklearn import datasets\n",
        "from sklearn import decomposition\n",
        "import pdb\n",
        "random.seed(0)            \n",
        "    \n",
        "#def gaussian_label(mu_actual,mu_predicted):"
      ],
      "execution_count": 0,
      "outputs": []
    },
    {
      "cell_type": "code",
      "metadata": {
        "id": "3d2QGyrcTpcy",
        "colab_type": "code",
        "colab": {}
      },
      "source": [
        "\n",
        "def get_iris_data():\n",
        "    (X,Y) = datasets.load_iris(return_X_y=True)\n",
        "    return X,Y"
      ],
      "execution_count": 0,
      "outputs": []
    },
    {
      "cell_type": "code",
      "metadata": {
        "id": "395jbXSyTwn2",
        "colab_type": "code",
        "colab": {}
      },
      "source": [
        "def generate_multivariate_gaussian_data(mean,cov,n):\n",
        "    return np.random.multivariate_normal(mean,cov,n)"
      ],
      "execution_count": 0,
      "outputs": []
    },
    {
      "cell_type": "code",
      "metadata": {
        "id": "U1RUC2T2T1mW",
        "colab_type": "code",
        "colab": {}
      },
      "source": [
        "def initialize(x,n):\n",
        "    mu = np.asarray(random.sample(list(x),n))\n",
        "    sigma_inv = np.asarray([np.identity(x.shape[1]) for i in range(0,n)])\n",
        "    prior_hidden = np.ones((n,1))*1.0/n \n",
        "    return mu,sigma_inv,prior_hidden"
      ],
      "execution_count": 0,
      "outputs": []
    },
    {
      "cell_type": "code",
      "metadata": {
        "id": "jTWAAcDBT_t5",
        "colab_type": "code",
        "colab": {}
      },
      "source": [
        "def plot_func(x,col):\n",
        "    plt.scatter(x[:,0],x[:,1],color=col)"
      ],
      "execution_count": 0,
      "outputs": []
    },
    {
      "cell_type": "code",
      "metadata": {
        "id": "QxijKII8T_54",
        "colab_type": "code",
        "colab": {}
      },
      "source": [
        "def mahalanobis_func(x,mu,sigma_inv):\n",
        "    return [np.dot(np.dot((x-mu)[i],sigma_inv),(x-mu)[i].T) for i in range(0,x.shape[0])]    "
      ],
      "execution_count": 0,
      "outputs": []
    },
    {
      "cell_type": "code",
      "metadata": {
        "id": "_Wfh73juUAFW",
        "colab_type": "code",
        "colab": {}
      },
      "source": [
        "# Part of E-step(Expectation step)\n",
        "def un_prob_x_t(x,mu,sigma_inv,prior_hidden,q_proxy):\n",
        "    \n",
        "    mahalanobis = np.asarray([mahalanobis_func(x,mu[i],sigma_inv[i]) for i in range(0,len(mu))])\n",
        "    try:\n",
        "      e = np.exp((-0.5)*mahalanobis)\n",
        "      sqrt_cov_inv_det = np.asarray([[np.sqrt(np.linalg.det(sigma_inv[i]))] for i in range(0,sigma_inv.shape[0])])\n",
        "    except OverflowError:\n",
        "      return q_proxy  \n",
        "    except ZeroDivisionError:\n",
        "      return q_proxy  \n",
        "    e=(e*np.sqrt(sqrt_cov_inv_det))*prior_hidden\n",
        "    return e"
      ],
      "execution_count": 0,
      "outputs": []
    },
    {
      "cell_type": "code",
      "metadata": {
        "id": "OnAJ4mK1UAQS",
        "colab_type": "code",
        "colab": {}
      },
      "source": [
        "def E_step(x,mu,sigma_inv,prior_hidden,q_proxy):\n",
        "    unor_prob_x_t = un_prob_x_t(x,mu,sigma_inv,prior_hidden,copy.deepcopy(q_proxy))\n",
        "    q_proxy = [(unor_prob_x_t[:,i]/sum(unor_prob_x_t[:,i])) for i in range(0,x.shape[0])]\n",
        "    return np.asarray(q_proxy)"
      ],
      "execution_count": 0,
      "outputs": []
    },
    {
      "cell_type": "code",
      "metadata": {
        "id": "18hsN-ynUAa7",
        "colab_type": "code",
        "colab": {}
      },
      "source": [
        "# Part of M-step(Maximisation step)\n",
        "def mu_update(x,mu,q_proxy):\n",
        "    num = np.asarray([[sum((x*q_proxy[:,i:i+1])[:,j]) for j in range(0,x.shape[1])]for i in range(0,q_proxy.shape[1])])\n",
        "    den = np.asarray([sum(q_proxy[:,i:i+1]) for i in range(0,q_proxy.shape[1])])\n",
        "    try:\n",
        "      mu_try = np.asarray([num[i,:]/den[i][0] for i in range(0,num.shape[0])]) \n",
        "    except ZeroDivisionError:\n",
        "      return mu  \n",
        "    mu=mu_try  \n",
        "    return mu"
      ],
      "execution_count": 0,
      "outputs": []
    },
    {
      "cell_type": "code",
      "metadata": {
        "id": "KcjVquy9UAmd",
        "colab_type": "code",
        "colab": {}
      },
      "source": [
        "#Part of M-step\n",
        "def sigma_update(x,mu,sigma_inv,q_proxy):\n",
        "\n",
        "    try:\n",
        "      sigma_inv = [np.linalg.inv(np.dot((((x-mu[i])*q_proxy[:,i:i+1]).T),(x-mu[i]))) for i in range(0,len(mu))]\n",
        "    except np.linalg.LinAlgError:\n",
        "      return sigma_inv  \n",
        "    den = [sum(q_proxy[:,j:j+1]) for j in range(0,q_proxy.shape[1])]\n",
        "    sigma_inv = np.asarray([sigma_inv[i]*den[i] for i in range(len(den))])\n",
        "    return sigma_inv"
      ],
      "execution_count": 0,
      "outputs": []
    },
    {
      "cell_type": "code",
      "metadata": {
        "id": "jz0VtrvAUjuI",
        "colab_type": "code",
        "colab": {}
      },
      "source": [
        "def prior_hidden_update(x,mu,q_proxy):\n",
        "    return (1.0/q_proxy.shape[0])*np.asarray([sum(q_proxy[:,i:i+1]) for i in range(0,q_proxy.shape[1])])"
      ],
      "execution_count": 0,
      "outputs": []
    },
    {
      "cell_type": "code",
      "metadata": {
        "id": "-xwtj0N9Uj89",
        "colab_type": "code",
        "colab": {}
      },
      "source": [
        "def M_step(x,mu,sigma_inv,q_proxy):\n",
        "\n",
        "    mu_new = mu_update(x,copy.deepcopy(mu),q_proxy)    \n",
        "    sigma_inv_new = sigma_update(x,mu,copy.deepcopy(sigma_inv),q_proxy)\n",
        "    prior_hidden_new = prior_hidden_update(x,mu,q_proxy)\n",
        "    return mu_new,sigma_inv_new,prior_hidden_new"
      ],
      "execution_count": 0,
      "outputs": []
    },
    {
      "cell_type": "code",
      "metadata": {
        "id": "RVLnBLn3UkKG",
        "colab_type": "code",
        "colab": {}
      },
      "source": [
        "def mean(x,y):\n",
        "\n",
        "    classes = set(y)\n",
        "    mu = []\n",
        "    for c in classes:\n",
        "        mu.append(np.average(x[np.where(y==c)[0]],axis=0))\n",
        "    return np.array(mu)"
      ],
      "execution_count": 0,
      "outputs": []
    },
    {
      "cell_type": "code",
      "metadata": {
        "id": "HVEwOK1TUkVZ",
        "colab_type": "code",
        "colab": {}
      },
      "source": [
        "def PCA_projection(x):\n",
        "\n",
        "    pca = decomposition.PCA(n_components=2)\n",
        "    pca.fit(x)\n",
        "    return pca.transform(x)"
      ],
      "execution_count": 0,
      "outputs": []
    },
    {
      "cell_type": "code",
      "metadata": {
        "id": "QrY6X1YDVEiX",
        "colab_type": "code",
        "colab": {
          "base_uri": "https://localhost:8080/",
          "height": 35
        },
        "outputId": "1d0d92e2-c5c2-4505-e9ef-f7ebff2d505f"
      },
      "source": [
        "x,y = get_iris_data()\n",
        "mu_actual = mean(x,y)\n",
        "print(mu_actual.shape)\n",
        "x_projected = []\n",
        "x_projected = PCA_projection(x) "
      ],
      "execution_count": 15,
      "outputs": [
        {
          "output_type": "stream",
          "text": [
            "(3, 4)\n"
          ],
          "name": "stdout"
        }
      ]
    },
    {
      "cell_type": "code",
      "metadata": {
        "id": "2w6bCf6yVRFX",
        "colab_type": "code",
        "colab": {}
      },
      "source": [
        "population = random.sample(range(len(y)),len(y)) \n",
        "x_projected = x_projected[population]\n",
        "y = y[population]"
      ],
      "execution_count": 0,
      "outputs": []
    },
    {
      "cell_type": "code",
      "metadata": {
        "id": "BA1U54MTVWi6",
        "colab_type": "code",
        "colab": {}
      },
      "source": [
        "no_of_gaussians=3\n",
        "threshold = 1e-10\n",
        "iteration_count = 0\n",
        "mu, sigma_inv, prior_hidden = initialize(x,no_of_gaussians)"
      ],
      "execution_count": 0,
      "outputs": []
    },
    {
      "cell_type": "code",
      "metadata": {
        "id": "Aq-amgigVXrE",
        "colab_type": "code",
        "colab": {
          "base_uri": "https://localhost:8080/",
          "height": 1536
        },
        "outputId": "ae290019-0421-4752-be87-717df5517fff"
      },
      "source": [
        "q_proxy = []\n",
        "mu_prev = mu\n",
        "\n",
        "while(True):\n",
        "   \n",
        "   mu_prev = mu\n",
        "   iteration_count = iteration_count + 1 \n",
        "   \n",
        "   if(np.isnan(mu_prev).any()):\n",
        "       mu, sigma_inv, prior_hidden = initialize(x,no_of_gaussians)\n",
        "\n",
        "   print('Iteration : {0}'.format(iteration_count))\n",
        "   print('mean : '+str(mu)+'\\n')\n",
        "\n",
        "   q_proxy = E_step(x,mu,sigma_inv,prior_hidden,copy.deepcopy(q_proxy))\n",
        "   mu,sigma_inv,prior_hidden = M_step(x,mu,sigma_inv,q_proxy)\n",
        "\n",
        "   epsilon = np.linalg.norm(mu-mu_prev)\n",
        "   if(epsilon<threshold):\n",
        "     break    "
      ],
      "execution_count": 33,
      "outputs": [
        {
          "output_type": "stream",
          "text": [
            "Iteration : 1\n",
            "mean : [[5.1 3.8 1.9 0.4]\n",
            " [4.6 3.1 1.5 0.2]\n",
            " [6.9 3.2 5.7 2.3]]\n",
            "\n",
            "Iteration : 2\n",
            "mean : [[5.19942123 3.2444237  2.14253977 0.51693106]\n",
            " [5.01323595 3.2135872  1.81504394 0.38536545]\n",
            " [6.39837971 2.92647751 5.10051807 1.76401331]]\n",
            "\n",
            "Iteration : 3\n",
            "mean : [[5.1582995  3.26672071 1.97959467 0.45387548]\n",
            " [4.99207158 3.31930043 1.60164789 0.30361359]\n",
            " [6.33367744 2.90689407 5.01400065 1.72322851]]\n",
            "\n",
            "Iteration : 4\n",
            "mean : [[5.09441061 3.30696018 1.81203298 0.38558436]\n",
            " [4.97230123 3.38441908 1.45944028 0.24546304]\n",
            " [6.30467405 2.8931555  4.96672299 1.7027143 ]]\n",
            "\n",
            "Iteration : 5\n",
            "mean : [[5.05194306 3.38566463 1.64938966 0.32277189]\n",
            " [4.97939426 3.38956748 1.43987835 0.23613005]\n",
            " [6.28288929 2.88258514 4.93388122 1.68802218]]\n",
            "\n",
            "Iteration : 6\n",
            "mean : [[5.04471142 3.4906149  1.51140907 0.28072634]\n",
            " [4.97555403 3.36906858 1.4377783  0.22478903]\n",
            " [6.26477747 2.87334522 4.90960906 1.67746631]]\n",
            "\n",
            "Iteration : 7\n",
            "mean : [[5.05490896 3.5154758  1.48352134 0.27747992]\n",
            " [4.95359761 3.33428279 1.43893951 0.21225967]\n",
            " [6.26198654 2.87199574 4.90597243 1.67598945]]\n",
            "\n",
            "Iteration : 8\n",
            "mean : [[5.05794339 3.51178179 1.47515134 0.27430097]\n",
            " [4.92630132 3.29946359 1.44182277 0.20256262]\n",
            " [6.26198493 2.87199523 4.90596913 1.67598819]]\n",
            "\n",
            "Iteration : 9\n",
            "mean : [[5.05552299 3.49972804 1.46892795 0.26842992]\n",
            " [4.89926046 3.27342516 1.44707342 0.19763788]\n",
            " [6.26198236 2.8719944  4.90596386 1.67598618]]\n",
            "\n",
            "Iteration : 10\n",
            "mean : [[5.05075458 3.48476772 1.46573328 0.26224509]\n",
            " [4.86936858 3.25473752 1.45061343 0.19638371]\n",
            " [6.26198005 2.87199365 4.90595913 1.67598437]]\n",
            "\n",
            "Iteration : 11\n",
            "mean : [[5.04362774 3.47162436 1.46364612 0.25723128]\n",
            " [4.84945831 3.24658058 1.45516973 0.19924822]\n",
            " [6.26197767 2.87199288 4.90595427 1.67598252]]\n",
            "\n",
            "Iteration : 12\n",
            "mean : [[5.04522804 3.47246365 1.46314165 0.2571162 ]\n",
            " [4.84376912 3.24419532 1.4572994  0.2       ]\n",
            " [6.26197548 2.87199215 4.90594979 1.67598081]]\n",
            "\n",
            "Iteration : 13\n",
            "mean : [[5.05977389 3.49455724 1.46266581 0.26484951]\n",
            " [4.8748342  3.26570072 1.46039078 0.2       ]\n",
            " [6.26197541 2.8719921  4.90594966 1.67598077]]\n",
            "\n",
            "Iteration : 14\n",
            "mean : [[5.04216593 3.49179071 1.50404141 0.30436482]\n",
            " [4.97751802 3.37777201 1.42887341 0.2       ]\n",
            " [6.26197981 2.87199351 4.90595867 1.67598422]]\n",
            "\n",
            "Iteration : 15\n",
            "mean : [[5.05240101 3.49528125 1.48572106 0.30952422]\n",
            " [4.9724138  3.37931034 1.44482758 0.2       ]\n",
            " [6.26198655 2.8719957  4.90597245 1.67598948]]\n",
            "\n",
            "Iteration : 16\n",
            "mean : [[5.05239605 3.49527059 1.48571937 0.30952412]\n",
            " [4.97241379 3.37931034 1.44482759 0.2       ]\n",
            " [6.26198986 2.87199677 4.90597923 1.67599206]]\n",
            "\n",
            "Iteration : 17\n",
            "mean : [[5.05239599 3.49527044 1.48571935 0.30952413]\n",
            " [4.97241379 3.37931034 1.44482759 0.2       ]\n",
            " [6.2619899  2.87199678 4.90597932 1.6759921 ]]\n",
            "\n"
          ],
          "name": "stdout"
        }
      ]
    },
    {
      "cell_type": "code",
      "metadata": {
        "id": "Z4UC0fQ5VgzU",
        "colab_type": "code",
        "colab": {
          "base_uri": "https://localhost:8080/",
          "height": 269
        },
        "outputId": "0391364b-b58c-4852-818d-701d42184d78"
      },
      "source": [
        "plot_func(x_projected[np.where(y==0)[0]],[0,0,1])\n",
        "plot_func(x_projected[np.where(y==1)[0]],[0,1,0])\n",
        "plot_func(x_projected[np.where(y==2)[0]],[1,0,0])\n",
        "\n",
        "plt.show()"
      ],
      "execution_count": 34,
      "outputs": [
        {
          "output_type": "display_data",
          "data": {
            "image/png": "[encoded data removed]",
            "text/plain": [
              "<Figure size 432x288 with 1 Axes>"
            ]
          },
          "metadata": {
            "tags": []
          }
        }
      ]
    },
    {
      "cell_type": "code",
      "metadata": {
        "id": "xzj2FtKNVtMD",
        "colab_type": "code",
        "colab": {}
      },
      "source": [
        "data = []\n",
        "no_of_points = 50\n",
        "\n",
        "for i in range(0,no_of_gaussians):\n",
        "    data.extend(list(generate_multivariate_gaussian_data(mu[i],np.linalg.inv(sigma_inv[i]), no_of_points)))\n",
        "\n",
        "data = np.array(data)\n",
        "\n",
        "pca = decomposition.PCA(n_components=2)\n",
        "pca.fit(data)\n",
        "data = pca.transform(data)"
      ],
      "execution_count": 0,
      "outputs": []
    },
    {
      "cell_type": "code",
      "metadata": {
        "id": "37vYnWcWVx6R",
        "colab_type": "code",
        "colab": {
          "base_uri": "https://localhost:8080/",
          "height": 269
        },
        "outputId": "cff5c6a0-7e21-4d69-9999-d28023591577"
      },
      "source": [
        "for i in range(0,no_of_gaussians):    \n",
        "    arr=[1/(i+1),1/(i+2),1/(i+3)]    \n",
        "    plot_func(data[i*no_of_points:(i+1)*no_of_points], random.shuffle(arr))\n",
        "\n",
        "plt.show()"
      ],
      "execution_count": 36,
      "outputs": [
        {
          "output_type": "display_data",
          "data": {
            "image/png": "[encoded data removed]",
            "text/plain": [
              "<Figure size 432x288 with 1 Axes>"
            ]
          },
          "metadata": {
            "tags": []
          }
        }
      ]
    }
  ]
}