{
  "nbformat": 4,
  "nbformat_minor": 0,
  "metadata": {
    "colab": {
      "name": "HMM_sampling_demo.ipynb",
      "version": "0.3.2",
      "provenance": []
    },
    "kernelspec": {
      "name": "python3",
      "display_name": "Python 3"
    },
    "accelerator": "GPU"
  },
  "cells": [
    {
      "cell_type": "code",
      "metadata": {
        "id": "BAtQn0XABw83",
        "colab_type": "code",
        "colab": {}
      },
      "source": [
        "import numpy as np"
      ],
      "execution_count": 0,
      "outputs": []
    },
    {
      "cell_type": "code",
      "metadata": {
        "id": "k0eOBrKhKCha",
        "colab_type": "code",
        "colab": {}
      },
      "source": [
        "def multinomial_sample(sampling_distribution):\n",
        "    sample = np.where(np.random.multinomial(1,sampling_distribution)==1) \n",
        "    return sample[0][0]"
      ],
      "execution_count": 0,
      "outputs": []
    },
    {
      "cell_type": "code",
      "metadata": {
        "id": "HsxziOPYECIW",
        "colab_type": "code",
        "colab": {}
      },
      "source": [
        "def initial_state_sample(start_prob):\n",
        "    return multinomial_sample(start_prob) "
      ],
      "execution_count": 0,
      "outputs": []
    },
    {
      "cell_type": "code",
      "metadata": {
        "id": "YX0u9GU-EaIX",
        "colab_type": "code",
        "colab": {}
      },
      "source": [
        "def transition_state_sample(transition_prob_vector):\n",
        "    return multinomial_sample(transition_prob_vector) "
      ],
      "execution_count": 0,
      "outputs": []
    },
    {
      "cell_type": "code",
      "metadata": {
        "id": "iDr6MnxxEOj7",
        "colab_type": "code",
        "colab": {}
      },
      "source": [
        "def sample_observation(emission_prob_vector):\n",
        "    return multinomial_sample(emission_prob_vector) "
      ],
      "execution_count": 0,
      "outputs": []
    },
    {
      "cell_type": "code",
      "metadata": {
        "id": "t8vn-spbGLHV",
        "colab_type": "code",
        "colab": {}
      },
      "source": [
        "def sample(n,start_prob,transition_prob,emission_prob):\n",
        "  \n",
        "    states = []\n",
        "    observations = []\n",
        "    states.append(initial_state_sample(start_prob))\n",
        "    observations.append(sample_observation(emission_prob[states[-1]]))\n",
        "  \n",
        "    for i in range(1,n):\n",
        "        states.append(transition_state_sample(transition_prob[states[-1]]))\n",
        "        observations.append(sample_observation(emission_prob[states[-1]]))\n",
        "     \n",
        "    return states, observations                        "
      ],
      "execution_count": 0,
      "outputs": []
    },
    {
      "cell_type": "code",
      "metadata": {
        "id": "IGjuDr_qEXwd",
        "colab_type": "code",
        "outputId": "e088be51-b2af-4ff0-9ea6-63613f3d13a5",
        "colab": {
          "base_uri": "https://localhost:8080/",
          "height": 91
        }
      },
      "source": [
        "start_prob = np.array([0.6, 0.3, 0.1])\n",
        "\n",
        "transition_prob = np.array([[0.7, 0.2, 0.1],\n",
        "                            [0.3, 0.5, 0.2],\n",
        "                            [0.3, 0.3, 0.4]])\n",
        "\n",
        "emission_prob = np.array([[0.1,0.5,0.4],[0.6,0.3,0.2],[0.4,0.4,0.2]])\n",
        "\n",
        "state_dict = {0:'s1',1:'s2',2:'s3'}\n",
        "observation_dict = {0:'S',1:'C',2:'R'}\n",
        "\n",
        "state_sequence, observations = sample(25,start_prob,transition_prob,emission_prob)\n",
        "\n",
        "print('State_Sequence : ','-->'.join(format(state_dict[key]) for key in list(state_sequence)))\n",
        "print('                 ','    '.join(format('|') for key in list(observations)))\n",
        "#print('                 ','    '.join(format('V') for key in list(observations)))\n",
        "print('Observations   : ','    '.join(format(observation_dict[key]) for key in list(observations)))"
      ],
      "execution_count": 7,
      "outputs": [
        {
          "output_type": "stream",
          "text": [
            "State_Sequence :  s2-->s3-->s3-->s2-->s2-->s1-->s1-->s1-->s3-->s2-->s2-->s2-->s2-->s1-->s1-->s1-->s1-->s1-->s1-->s1-->s1-->s1-->s2-->s3-->s3\n",
            "                  |    |    |    |    |    |    |    |    |    |    |    |    |    |    |    |    |    |    |    |    |    |    |    |    |\n",
            "Observations   :  S    C    R    S    R    C    R    R    R    C    C    S    S    R    R    S    C    C    R    C    C    S    S    S    C\n"
          ],
          "name": "stdout"
        }
      ]
    }
  ]
}