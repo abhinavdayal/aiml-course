{
 "cells": [
  {
   "cell_type": "markdown",
   "metadata": {},
   "source": [
    "# Ensemble Techniques\n",
    "     - Bagging\n",
    "     - Boosting\n",
    "     - Stacking"
   ]
  },
  {
   "cell_type": "markdown",
   "metadata": {},
   "source": [
    "## Loading datasets and pre-processing"
   ]
  },
  {
   "cell_type": "code",
   "execution_count": 1,
   "metadata": {},
   "outputs": [
    {
     "name": "stdout",
     "output_type": "stream",
     "text": [
      "Requirement already satisfied: pydataset in ./.local/lib/python3.5/site-packages (0.2.0)\n",
      "Requirement already satisfied: pandas in ./.local/lib/python3.5/site-packages (from pydataset) (0.24.1)\n",
      "Requirement already satisfied: python-dateutil>=2.5.0 in ./.local/lib/python3.5/site-packages (from pandas->pydataset) (2.5.0)\n",
      "Requirement already satisfied: numpy>=1.12.0 in ./.local/lib/python3.5/site-packages (from pandas->pydataset) (1.16.1)\n",
      "Requirement already satisfied: pytz>=2011k in ./.local/lib/python3.5/site-packages (from pandas->pydataset) (2018.9)\n",
      "Requirement already satisfied: six>=1.5 in ./.local/lib/python3.5/site-packages (from python-dateutil>=2.5.0->pandas->pydataset) (1.12.0)\n"
     ]
    }
   ],
   "source": [
    "!pip3 install pydataset"
   ]
  },
  {
   "cell_type": "code",
   "execution_count": 1,
   "metadata": {
    "ExecuteTime": {
     "end_time": "2019-06-07T03:34:04.317842Z",
     "start_time": "2019-06-07T03:34:03.943988Z"
    }
   },
   "outputs": [],
   "source": [
    "from pydataset import data\n",
    "import pandas as pd\n",
    "import numpy as np\n",
    "import warnings\n",
    "warnings.filterwarnings('ignore')"
   ]
  },
  {
   "cell_type": "code",
   "execution_count": 46,
   "metadata": {
    "ExecuteTime": {
     "end_time": "2019-06-07T03:34:04.404780Z",
     "start_time": "2019-06-07T03:34:04.378917Z"
    }
   },
   "outputs": [
    {
     "data": {
      "text/plain": [
       "array([[42000.0, 5850, 3, 1, 2, 'yes', 'no', 'yes', 'no', 'no', 1, 'no'],\n",
       "       [38500.0, 4000, 2, 1, 1, 'yes', 'no', 'no', 'no', 'no', 0, 'no'],\n",
       "       [49500.0, 3060, 3, 1, 1, 'yes', 'no', 'no', 'no', 'no', 0, 'no']],\n",
       "      dtype=object)"
      ]
     },
     "execution_count": 46,
     "metadata": {},
     "output_type": "execute_result"
    }
   ],
   "source": [
    "df = data('Housing')\n",
    "df.head(3).values"
   ]
  },
  {
   "cell_type": "code",
   "execution_count": 3,
   "metadata": {
    "ExecuteTime": {
     "end_time": "2019-06-07T03:34:04.991740Z",
     "start_time": "2019-06-07T03:34:04.988511Z"
    }
   },
   "outputs": [],
   "source": [
    "d = dict(zip(['no', 'yes'], range(0,2)))"
   ]
  },
  {
   "cell_type": "code",
   "execution_count": 4,
   "metadata": {
    "ExecuteTime": {
     "end_time": "2019-06-07T03:34:05.536321Z",
     "start_time": "2019-06-07T03:34:05.528242Z"
    }
   },
   "outputs": [
    {
     "data": {
      "text/plain": [
       "price       float64\n",
       "lotsize       int64\n",
       "bedrooms      int64\n",
       "bathrms       int64\n",
       "stories       int64\n",
       "driveway     object\n",
       "recroom      object\n",
       "fullbase     object\n",
       "gashw        object\n",
       "airco        object\n",
       "garagepl      int64\n",
       "prefarea     object\n",
       "dtype: object"
      ]
     },
     "execution_count": 4,
     "metadata": {},
     "output_type": "execute_result"
    }
   ],
   "source": [
    "df.dtypes"
   ]
  },
  {
   "cell_type": "code",
   "execution_count": 5,
   "metadata": {
    "ExecuteTime": {
     "end_time": "2019-06-07T03:34:06.204042Z",
     "start_time": "2019-06-07T03:34:06.191564Z"
    }
   },
   "outputs": [],
   "source": [
    "for i in zip(df.dtypes.index, df.dtypes):\n",
    "    if str(i[1]) == 'object':\n",
    "        df[i[0]] = df[i[0]].map(d)"
   ]
  },
  {
   "cell_type": "code",
   "execution_count": 6,
   "metadata": {
    "ExecuteTime": {
     "end_time": "2019-06-07T03:34:06.698534Z",
     "start_time": "2019-06-07T03:34:06.687457Z"
    }
   },
   "outputs": [
    {
     "data": {
      "text/plain": [
       "array([[4.20e+04, 5.85e+03, 3.00e+00, 1.00e+00, 2.00e+00, 1.00e+00,\n",
       "        0.00e+00, 1.00e+00, 0.00e+00, 0.00e+00, 1.00e+00, 0.00e+00],\n",
       "       [3.85e+04, 4.00e+03, 2.00e+00, 1.00e+00, 1.00e+00, 1.00e+00,\n",
       "        0.00e+00, 0.00e+00, 0.00e+00, 0.00e+00, 0.00e+00, 0.00e+00],\n",
       "       [4.95e+04, 3.06e+03, 3.00e+00, 1.00e+00, 1.00e+00, 1.00e+00,\n",
       "        0.00e+00, 0.00e+00, 0.00e+00, 0.00e+00, 0.00e+00, 0.00e+00],\n",
       "       [6.05e+04, 6.65e+03, 3.00e+00, 1.00e+00, 2.00e+00, 1.00e+00,\n",
       "        1.00e+00, 0.00e+00, 0.00e+00, 0.00e+00, 0.00e+00, 0.00e+00],\n",
       "       [6.10e+04, 6.36e+03, 2.00e+00, 1.00e+00, 1.00e+00, 1.00e+00,\n",
       "        0.00e+00, 0.00e+00, 0.00e+00, 0.00e+00, 0.00e+00, 0.00e+00]])"
      ]
     },
     "execution_count": 6,
     "metadata": {},
     "output_type": "execute_result"
    }
   ],
   "source": [
    "df.head().values"
   ]
  },
  {
   "cell_type": "code",
   "execution_count": 7,
   "metadata": {
    "ExecuteTime": {
     "end_time": "2019-06-07T03:34:07.206063Z",
     "start_time": "2019-06-07T03:34:07.181323Z"
    }
   },
   "outputs": [
    {
     "data": {
      "text/plain": [
       "1      (24999.999, 53000.0]\n",
       "2      (24999.999, 53000.0]\n",
       "3      (24999.999, 53000.0]\n",
       "4        (53000.0, 74500.0]\n",
       "5        (53000.0, 74500.0]\n",
       "6        (53000.0, 74500.0]\n",
       "7        (53000.0, 74500.0]\n",
       "8        (53000.0, 74500.0]\n",
       "9       (74500.0, 190000.0]\n",
       "10      (74500.0, 190000.0]\n",
       "11      (74500.0, 190000.0]\n",
       "12     (24999.999, 53000.0]\n",
       "13     (24999.999, 53000.0]\n",
       "14     (24999.999, 53000.0]\n",
       "15     (24999.999, 53000.0]\n",
       "16     (24999.999, 53000.0]\n",
       "17     (24999.999, 53000.0]\n",
       "18     (24999.999, 53000.0]\n",
       "19     (24999.999, 53000.0]\n",
       "20     (24999.999, 53000.0]\n",
       "21     (24999.999, 53000.0]\n",
       "22       (53000.0, 74500.0]\n",
       "23     (24999.999, 53000.0]\n",
       "24     (24999.999, 53000.0]\n",
       "25     (24999.999, 53000.0]\n",
       "26     (24999.999, 53000.0]\n",
       "27     (24999.999, 53000.0]\n",
       "28     (24999.999, 53000.0]\n",
       "29     (24999.999, 53000.0]\n",
       "30     (24999.999, 53000.0]\n",
       "31     (24999.999, 53000.0]\n",
       "32     (24999.999, 53000.0]\n",
       "33     (24999.999, 53000.0]\n",
       "34     (24999.999, 53000.0]\n",
       "35       (53000.0, 74500.0]\n",
       "36       (53000.0, 74500.0]\n",
       "37       (53000.0, 74500.0]\n",
       "38       (53000.0, 74500.0]\n",
       "39      (74500.0, 190000.0]\n",
       "40       (53000.0, 74500.0]\n",
       "41       (53000.0, 74500.0]\n",
       "42       (53000.0, 74500.0]\n",
       "43      (74500.0, 190000.0]\n",
       "44      (74500.0, 190000.0]\n",
       "45     (24999.999, 53000.0]\n",
       "46     (24999.999, 53000.0]\n",
       "47     (24999.999, 53000.0]\n",
       "48     (24999.999, 53000.0]\n",
       "49     (24999.999, 53000.0]\n",
       "50       (53000.0, 74500.0]\n",
       "51       (53000.0, 74500.0]\n",
       "52       (53000.0, 74500.0]\n",
       "53       (53000.0, 74500.0]\n",
       "54      (74500.0, 190000.0]\n",
       "55     (24999.999, 53000.0]\n",
       "56     (24999.999, 53000.0]\n",
       "57     (24999.999, 53000.0]\n",
       "58       (53000.0, 74500.0]\n",
       "59     (24999.999, 53000.0]\n",
       "60     (24999.999, 53000.0]\n",
       "61     (24999.999, 53000.0]\n",
       "62     (24999.999, 53000.0]\n",
       "63     (24999.999, 53000.0]\n",
       "64       (53000.0, 74500.0]\n",
       "65       (53000.0, 74500.0]\n",
       "66       (53000.0, 74500.0]\n",
       "67       (53000.0, 74500.0]\n",
       "68       (53000.0, 74500.0]\n",
       "69     (24999.999, 53000.0]\n",
       "70       (53000.0, 74500.0]\n",
       "71     (24999.999, 53000.0]\n",
       "72     (24999.999, 53000.0]\n",
       "73     (24999.999, 53000.0]\n",
       "74     (24999.999, 53000.0]\n",
       "75     (24999.999, 53000.0]\n",
       "76     (24999.999, 53000.0]\n",
       "77     (24999.999, 53000.0]\n",
       "78     (24999.999, 53000.0]\n",
       "79       (53000.0, 74500.0]\n",
       "80       (53000.0, 74500.0]\n",
       "81     (24999.999, 53000.0]\n",
       "82     (24999.999, 53000.0]\n",
       "83     (24999.999, 53000.0]\n",
       "84     (24999.999, 53000.0]\n",
       "85       (53000.0, 74500.0]\n",
       "               ...         \n",
       "462    (24999.999, 53000.0]\n",
       "463    (24999.999, 53000.0]\n",
       "464    (24999.999, 53000.0]\n",
       "465    (24999.999, 53000.0]\n",
       "466    (24999.999, 53000.0]\n",
       "467      (53000.0, 74500.0]\n",
       "468      (53000.0, 74500.0]\n",
       "469      (53000.0, 74500.0]\n",
       "470      (53000.0, 74500.0]\n",
       "471      (53000.0, 74500.0]\n",
       "472      (53000.0, 74500.0]\n",
       "473    (24999.999, 53000.0]\n",
       "474      (53000.0, 74500.0]\n",
       "475     (74500.0, 190000.0]\n",
       "476     (74500.0, 190000.0]\n",
       "477      (53000.0, 74500.0]\n",
       "478     (74500.0, 190000.0]\n",
       "479     (74500.0, 190000.0]\n",
       "480     (74500.0, 190000.0]\n",
       "481     (74500.0, 190000.0]\n",
       "482     (74500.0, 190000.0]\n",
       "483     (74500.0, 190000.0]\n",
       "484    (24999.999, 53000.0]\n",
       "485      (53000.0, 74500.0]\n",
       "486     (74500.0, 190000.0]\n",
       "487    (24999.999, 53000.0]\n",
       "488    (24999.999, 53000.0]\n",
       "489    (24999.999, 53000.0]\n",
       "490    (24999.999, 53000.0]\n",
       "491    (24999.999, 53000.0]\n",
       "492    (24999.999, 53000.0]\n",
       "493    (24999.999, 53000.0]\n",
       "494      (53000.0, 74500.0]\n",
       "495      (53000.0, 74500.0]\n",
       "496      (53000.0, 74500.0]\n",
       "497      (53000.0, 74500.0]\n",
       "498      (53000.0, 74500.0]\n",
       "499      (53000.0, 74500.0]\n",
       "500      (53000.0, 74500.0]\n",
       "501      (53000.0, 74500.0]\n",
       "502      (53000.0, 74500.0]\n",
       "503      (53000.0, 74500.0]\n",
       "504      (53000.0, 74500.0]\n",
       "505      (53000.0, 74500.0]\n",
       "506      (53000.0, 74500.0]\n",
       "507     (74500.0, 190000.0]\n",
       "508     (74500.0, 190000.0]\n",
       "509     (74500.0, 190000.0]\n",
       "510      (53000.0, 74500.0]\n",
       "511      (53000.0, 74500.0]\n",
       "512    (24999.999, 53000.0]\n",
       "513      (53000.0, 74500.0]\n",
       "514      (53000.0, 74500.0]\n",
       "515      (53000.0, 74500.0]\n",
       "516    (24999.999, 53000.0]\n",
       "517     (74500.0, 190000.0]\n",
       "518     (74500.0, 190000.0]\n",
       "519     (74500.0, 190000.0]\n",
       "520     (74500.0, 190000.0]\n",
       "521     (74500.0, 190000.0]\n",
       "522     (74500.0, 190000.0]\n",
       "523     (74500.0, 190000.0]\n",
       "524     (74500.0, 190000.0]\n",
       "525     (74500.0, 190000.0]\n",
       "526     (74500.0, 190000.0]\n",
       "527     (74500.0, 190000.0]\n",
       "528     (74500.0, 190000.0]\n",
       "529     (74500.0, 190000.0]\n",
       "530     (74500.0, 190000.0]\n",
       "531     (74500.0, 190000.0]\n",
       "532     (74500.0, 190000.0]\n",
       "533      (53000.0, 74500.0]\n",
       "534      (53000.0, 74500.0]\n",
       "535     (74500.0, 190000.0]\n",
       "536     (74500.0, 190000.0]\n",
       "537     (74500.0, 190000.0]\n",
       "538     (74500.0, 190000.0]\n",
       "539     (74500.0, 190000.0]\n",
       "540     (74500.0, 190000.0]\n",
       "541     (74500.0, 190000.0]\n",
       "542     (74500.0, 190000.0]\n",
       "543     (74500.0, 190000.0]\n",
       "544     (74500.0, 190000.0]\n",
       "545     (74500.0, 190000.0]\n",
       "546     (74500.0, 190000.0]\n",
       "Name: price, Length: 546, dtype: category\n",
       "Categories (3, interval[float64]): [(24999.999, 53000.0] < (53000.0, 74500.0] < (74500.0, 190000.0]]"
      ]
     },
     "execution_count": 7,
     "metadata": {},
     "output_type": "execute_result"
    }
   ],
   "source": [
    "pd.qcut(df['price'], 3)"
   ]
  },
  {
   "cell_type": "code",
   "execution_count": 8,
   "metadata": {
    "ExecuteTime": {
     "end_time": "2019-06-07T03:34:07.589347Z",
     "start_time": "2019-06-07T03:34:07.573409Z"
    }
   },
   "outputs": [
    {
     "name": "stdout",
     "output_type": "stream",
     "text": [
      "0 (24999.999, 53000.0]\n",
      "1 (53000.0, 74500.0]\n",
      "2 (74500.0, 190000.0]\n"
     ]
    }
   ],
   "source": [
    "## check the range of price\n",
    "for i,j in enumerate(np.unique(pd.qcut(df['price'], 3))):\n",
    "    print(i, j)"
   ]
  },
  {
   "cell_type": "code",
   "execution_count": 9,
   "metadata": {
    "ExecuteTime": {
     "end_time": "2019-06-07T03:34:08.346081Z",
     "start_time": "2019-06-07T03:34:08.334682Z"
    }
   },
   "outputs": [],
   "source": [
    "## bucket the price\n",
    "df['price'] = pd.qcut(df['price'], 3, labels = ['0', '1', '2']).cat.codes"
   ]
  },
  {
   "cell_type": "code",
   "execution_count": 10,
   "metadata": {
    "ExecuteTime": {
     "end_time": "2019-06-07T03:34:09.114123Z",
     "start_time": "2019-06-07T03:34:09.102739Z"
    }
   },
   "outputs": [
    {
     "data": {
      "text/plain": [
       "1      0\n",
       "2      0\n",
       "3      0\n",
       "4      1\n",
       "5      1\n",
       "6      1\n",
       "7      1\n",
       "8      1\n",
       "9      2\n",
       "10     2\n",
       "11     2\n",
       "12     0\n",
       "13     0\n",
       "14     0\n",
       "15     0\n",
       "16     0\n",
       "17     0\n",
       "18     0\n",
       "19     0\n",
       "20     0\n",
       "21     0\n",
       "22     1\n",
       "23     0\n",
       "24     0\n",
       "25     0\n",
       "26     0\n",
       "27     0\n",
       "28     0\n",
       "29     0\n",
       "30     0\n",
       "31     0\n",
       "32     0\n",
       "33     0\n",
       "34     0\n",
       "35     1\n",
       "36     1\n",
       "37     1\n",
       "38     1\n",
       "39     2\n",
       "40     1\n",
       "41     1\n",
       "42     1\n",
       "43     2\n",
       "44     2\n",
       "45     0\n",
       "46     0\n",
       "47     0\n",
       "48     0\n",
       "49     0\n",
       "50     1\n",
       "51     1\n",
       "52     1\n",
       "53     1\n",
       "54     2\n",
       "55     0\n",
       "56     0\n",
       "57     0\n",
       "58     1\n",
       "59     0\n",
       "60     0\n",
       "61     0\n",
       "62     0\n",
       "63     0\n",
       "64     1\n",
       "65     1\n",
       "66     1\n",
       "67     1\n",
       "68     1\n",
       "69     0\n",
       "70     1\n",
       "71     0\n",
       "72     0\n",
       "73     0\n",
       "74     0\n",
       "75     0\n",
       "76     0\n",
       "77     0\n",
       "78     0\n",
       "79     1\n",
       "80     1\n",
       "81     0\n",
       "82     0\n",
       "83     0\n",
       "84     0\n",
       "85     1\n",
       "      ..\n",
       "462    0\n",
       "463    0\n",
       "464    0\n",
       "465    0\n",
       "466    0\n",
       "467    1\n",
       "468    1\n",
       "469    1\n",
       "470    1\n",
       "471    1\n",
       "472    1\n",
       "473    0\n",
       "474    1\n",
       "475    2\n",
       "476    2\n",
       "477    1\n",
       "478    2\n",
       "479    2\n",
       "480    2\n",
       "481    2\n",
       "482    2\n",
       "483    2\n",
       "484    0\n",
       "485    1\n",
       "486    2\n",
       "487    0\n",
       "488    0\n",
       "489    0\n",
       "490    0\n",
       "491    0\n",
       "492    0\n",
       "493    0\n",
       "494    1\n",
       "495    1\n",
       "496    1\n",
       "497    1\n",
       "498    1\n",
       "499    1\n",
       "500    1\n",
       "501    1\n",
       "502    1\n",
       "503    1\n",
       "504    1\n",
       "505    1\n",
       "506    1\n",
       "507    2\n",
       "508    2\n",
       "509    2\n",
       "510    1\n",
       "511    1\n",
       "512    0\n",
       "513    1\n",
       "514    1\n",
       "515    1\n",
       "516    0\n",
       "517    2\n",
       "518    2\n",
       "519    2\n",
       "520    2\n",
       "521    2\n",
       "522    2\n",
       "523    2\n",
       "524    2\n",
       "525    2\n",
       "526    2\n",
       "527    2\n",
       "528    2\n",
       "529    2\n",
       "530    2\n",
       "531    2\n",
       "532    2\n",
       "533    1\n",
       "534    1\n",
       "535    2\n",
       "536    2\n",
       "537    2\n",
       "538    2\n",
       "539    2\n",
       "540    2\n",
       "541    2\n",
       "542    2\n",
       "543    2\n",
       "544    2\n",
       "545    2\n",
       "546    2\n",
       "Name: price, Length: 546, dtype: int8"
      ]
     },
     "execution_count": 10,
     "metadata": {},
     "output_type": "execute_result"
    }
   ],
   "source": [
    "df['price']"
   ]
  },
  {
   "cell_type": "code",
   "execution_count": 11,
   "metadata": {
    "ExecuteTime": {
     "end_time": "2019-06-07T03:34:09.973410Z",
     "start_time": "2019-06-07T03:34:09.966237Z"
    }
   },
   "outputs": [],
   "source": [
    "## Create datasets by splitting into X and y\n",
    "y = df['price'] \n",
    "X = df.drop('price', 1)"
   ]
  },
  {
   "cell_type": "code",
   "execution_count": 12,
   "metadata": {
    "ExecuteTime": {
     "end_time": "2019-06-07T03:34:11.139443Z",
     "start_time": "2019-06-07T03:34:11.134473Z"
    }
   },
   "outputs": [
    {
     "name": "stdout",
     "output_type": "stream",
     "text": [
      "(546, 11)\n",
      "(546,)\n"
     ]
    }
   ],
   "source": [
    "print(X.shape)\n",
    "print(y.shape)"
   ]
  },
  {
   "cell_type": "markdown",
   "metadata": {},
   "source": [
    "## Baseline - Decision Tree"
   ]
  },
  {
   "cell_type": "code",
   "execution_count": 13,
   "metadata": {
    "ExecuteTime": {
     "end_time": "2019-06-07T03:32:48.906354Z",
     "start_time": "2019-06-07T03:32:48.680916Z"
    }
   },
   "outputs": [],
   "source": [
    "from sklearn.tree import DecisionTreeClassifier\n",
    "from sklearn.model_selection import cross_val_score"
   ]
  },
  {
   "cell_type": "code",
   "execution_count": 14,
   "metadata": {
    "ExecuteTime": {
     "end_time": "2019-06-07T03:32:49.431377Z",
     "start_time": "2019-06-07T03:32:49.429048Z"
    }
   },
   "outputs": [],
   "source": [
    "dt = DecisionTreeClassifier()"
   ]
  },
  {
   "cell_type": "code",
   "execution_count": 15,
   "metadata": {
    "ExecuteTime": {
     "end_time": "2019-06-07T03:32:50.386886Z",
     "start_time": "2019-06-07T03:32:50.072215Z"
    }
   },
   "outputs": [
    {
     "name": "stdout",
     "output_type": "stream",
     "text": [
      "[0.41818182 0.49090909 0.6        0.45454545 0.56363636 0.72727273\n",
      " 0.7037037  0.59259259 0.61111111 0.53703704]\n",
      "-----------------------------------------------------------\n",
      "Mean is  0.570 with std dev of  0.095 [Baseline]\n"
     ]
    }
   ],
   "source": [
    "baseline_score = cross_val_score(dt, X, y, cv = 10, n_jobs = -1) \n",
    "print(baseline_score)\n",
    "print(\"-----------------------------------------------------------\")\n",
    "print(\"Mean is {0: .3f} with std dev of {1: .3f} [Baseline]\".format(baseline_score.mean(), baseline_score.std()))\n",
    "    "
   ]
  },
  {
   "cell_type": "markdown",
   "metadata": {},
   "source": [
    "## Bagging ( Bootstrapping + Aggregation )"
   ]
  },
  {
   "cell_type": "markdown",
   "metadata": {
    "ExecuteTime": {
     "end_time": "2019-06-07T03:24:22.014990Z",
     "start_time": "2019-06-07T03:24:22.008041Z"
    }
   },
   "source": [
    "<div class=\"alert alert-block alert-info\">\n",
    "<b>ExtraTreesClassifier: Extremely Randomized Trees -</b> Apart from randomization involved in random forests, thresholds are drawn at random for each candidate feature and the best of these randomly-generated thresholds is picked as the splitting rule.  \n",
    "</div>"
   ]
  },
  {
   "cell_type": "code",
   "execution_count": 16,
   "metadata": {
    "ExecuteTime": {
     "end_time": "2019-06-07T03:34:35.023981Z",
     "start_time": "2019-06-07T03:34:34.985684Z"
    }
   },
   "outputs": [
    {
     "name": "stderr",
     "output_type": "stream",
     "text": [
      "/usr/local/lib/python3.5/dist-packages/sklearn/ensemble/weight_boosting.py:29: DeprecationWarning: numpy.core.umath_tests is an internal NumPy module and should not be imported. It will be removed in a future NumPy release.\n",
      "  from numpy.core.umath_tests import inner1d\n"
     ]
    }
   ],
   "source": [
    "from sklearn.model_selection import cross_val_score\n",
    "from sklearn.ensemble import BaggingClassifier, ExtraTreesClassifier, RandomForestClassifier\n",
    "from sklearn.neighbors import KNeighborsClassifier\n",
    "from sklearn.linear_model import RidgeClassifier\n",
    "from sklearn.svm import SVC"
   ]
  },
  {
   "cell_type": "code",
   "execution_count": 17,
   "metadata": {
    "ExecuteTime": {
     "end_time": "2019-06-07T03:32:51.593814Z",
     "start_time": "2019-06-07T03:32:51.589788Z"
    }
   },
   "outputs": [],
   "source": [
    "seed = 1075\n",
    "np.random.seed(seed)"
   ]
  },
  {
   "cell_type": "code",
   "execution_count": 18,
   "metadata": {
    "ExecuteTime": {
     "end_time": "2019-06-07T03:32:52.307907Z",
     "start_time": "2019-06-07T03:32:52.305115Z"
    }
   },
   "outputs": [],
   "source": [
    "rf = RandomForestClassifier()\n",
    "et = ExtraTreesClassifier()\n",
    "knn = KNeighborsClassifier()\n",
    "svc = SVC()"
   ]
  },
  {
   "cell_type": "code",
   "execution_count": 19,
   "metadata": {
    "ExecuteTime": {
     "end_time": "2019-06-07T03:32:52.986008Z",
     "start_time": "2019-06-07T03:32:52.982975Z"
    }
   },
   "outputs": [],
   "source": [
    "clf_array = [rf, et, knn, svc]"
   ]
  },
  {
   "cell_type": "markdown",
   "metadata": {},
   "source": [
    "- StratifiedKFold\n",
    "- Cross validation"
   ]
  },
  {
   "cell_type": "code",
   "execution_count": 20,
   "metadata": {
    "ExecuteTime": {
     "end_time": "2019-06-07T03:32:57.763389Z",
     "start_time": "2019-06-07T03:32:53.701040Z"
    }
   },
   "outputs": [
    {
     "name": "stdout",
     "output_type": "stream",
     "text": [
      "Mean is  0.623 with std dev of  0.084 [RandomForestClassifier]\n",
      "Mean is  0.639 with std dev of  0.069 [Bagging RandomForestClassifier]\n",
      "=============================================================\n",
      "Mean is  0.630 with std dev of  0.092 [ExtraTreesClassifier]\n",
      "Mean is  0.654 with std dev of  0.073 [Bagging ExtraTreesClassifier]\n",
      "=============================================================\n",
      "Mean is  0.500 with std dev of  0.086 [KNeighborsClassifier]\n",
      "Mean is  0.535 with std dev of  0.111 [Bagging KNeighborsClassifier]\n",
      "=============================================================\n",
      "Mean is  0.465 with std dev of  0.085 [SVC]\n",
      "Mean is  0.535 with std dev of  0.083 [Bagging SVC]\n",
      "=============================================================\n"
     ]
    }
   ],
   "source": [
    "for clf in clf_array:\n",
    "    without_bagging_scores = cross_val_score(clf, X, y, cv = 10, n_jobs = -1)\n",
    "    ## define bagging classifier\n",
    "    bagging_clf = BaggingClassifier(clf, max_samples = 0.4, max_features = 10, random_state = seed)\n",
    "    bagging_scores = cross_val_score(bagging_clf, X, y, cv = 10, n_jobs = -1)\n",
    "    ## compare the scores of individual methods with the corresponding bagging classifier\n",
    "    print(\"Mean is {1: .3f} with std dev of {2: .3f} [{0}]\".format(clf.__class__.__name__, \n",
    "                                                                     without_bagging_scores.mean(), without_bagging_scores.std()))\n",
    "    print(\"Mean is {1: .3f} with std dev of {2: .3f} [Bagging {0}]\".format(clf.__class__.__name__, \n",
    "                                                                     bagging_scores.mean(), bagging_scores.std()))\n",
    "    print(\"=============================================================\")"
   ]
  },
  {
   "cell_type": "markdown",
   "metadata": {},
   "source": [
    "<div class=\"alert alert-block alert-danger\">\n",
    "<b>Question: </b> 1. Will bagging always perform better than base model ?\n",
    "</div>"
   ]
  },
  {
   "cell_type": "markdown",
   "metadata": {},
   "source": [
    "<div class=\"alert alert-block alert-danger\">\n",
    "<b>Question: </b> 2. Sampling is done with or without replacement ?\n",
    "    "
   ]
  },
  {
   "cell_type": "markdown",
   "metadata": {},
   "source": [
    "### Voting ( Hard / soft )"
   ]
  },
  {
   "cell_type": "markdown",
   "metadata": {
    "ExecuteTime": {
     "end_time": "2019-06-06T11:20:51.446634Z",
     "start_time": "2019-06-06T11:20:51.439851Z"
    }
   },
   "source": [
    "<div class=\"alert alert-block alert-info\">\n",
    "<b> Hard voting</b> uses predicted class labels for majority rule voting. <b> Soft voting </b> predicts the class label based on the argmax of the sums of the predicted probabilities, which is recommended for an ensemble of well-calibrated classifiers. \n",
    "</div>"
   ]
  },
  {
   "cell_type": "markdown",
   "metadata": {},
   "source": [
    "#### Hard voting"
   ]
  },
  {
   "cell_type": "code",
   "execution_count": 30,
   "metadata": {
    "ExecuteTime": {
     "end_time": "2019-06-07T03:33:00.819629Z",
     "start_time": "2019-06-07T03:33:00.815920Z"
    }
   },
   "outputs": [],
   "source": [
    "from sklearn.ensemble import VotingClassifier\n",
    "warnings.filterwarnings('ignore')"
   ]
  },
  {
   "cell_type": "code",
   "execution_count": 31,
   "metadata": {
    "ExecuteTime": {
     "end_time": "2019-06-07T03:33:01.601450Z",
     "start_time": "2019-06-07T03:33:01.597830Z"
    }
   },
   "outputs": [],
   "source": [
    "eclf = VotingClassifier(estimators=[('Random Forests', rf), ('Extra Trees', et), ('KNeighbors', knn), \n",
    "                                    ('SVC', svc)], voting='hard')"
   ]
  },
  {
   "cell_type": "code",
   "execution_count": 32,
   "metadata": {
    "ExecuteTime": {
     "end_time": "2019-06-07T03:33:03.340543Z",
     "start_time": "2019-06-07T03:33:02.214588Z"
    }
   },
   "outputs": [
    {
     "name": "stdout",
     "output_type": "stream",
     "text": [
      "Accuracy is  0.627 with std dev of  0.077 [Random Forest]\n",
      "Accuracy is  0.628 with std dev of  0.064 [Extra Trees]\n",
      "Accuracy is  0.500 with std dev of  0.086 [KNeighbors]\n",
      "Accuracy is  0.465 with std dev of  0.085 [SVC]\n",
      "Accuracy is  0.594 with std dev of  0.084 [Ensemble]\n"
     ]
    }
   ],
   "source": [
    "for clf, label in zip([rf, et, knn, svc, eclf], ['Random Forest', 'Extra Trees', 'KNeighbors', 'SVC', 'Ensemble']):\n",
    "    scores = cross_val_score(clf, X, y, cv=10, scoring='accuracy')\n",
    "    print(\"Accuracy is {1: .3f} with std dev of {2: .3f} [{0}]\".format(label, scores.mean(), scores.std()))\n",
    "    "
   ]
  },
  {
   "cell_type": "markdown",
   "metadata": {},
   "source": [
    "#### Soft voting"
   ]
  },
  {
   "cell_type": "code",
   "execution_count": 33,
   "metadata": {
    "ExecuteTime": {
     "end_time": "2019-06-07T03:33:04.113074Z",
     "start_time": "2019-06-07T03:33:04.109432Z"
    }
   },
   "outputs": [],
   "source": [
    "svc = SVC(probability=True)\n",
    "eclf = VotingClassifier(estimators=[('Random Forests', rf), ('Extra Trees', et), ('KNeighbors', knn), \n",
    "                                    ('SVC', svc)], voting='soft', weights = [5,10,1,1])"
   ]
  },
  {
   "cell_type": "code",
   "execution_count": 34,
   "metadata": {
    "ExecuteTime": {
     "end_time": "2019-06-07T03:33:07.033664Z",
     "start_time": "2019-06-07T03:33:04.837448Z"
    }
   },
   "outputs": [
    {
     "name": "stdout",
     "output_type": "stream",
     "text": [
      "Accuracy is  0.637 with std dev of  0.094 [Random Forest]\n",
      "Accuracy is  0.630 with std dev of  0.084 [Extra Trees]\n",
      "Accuracy is  0.500 with std dev of  0.086 [KNeighbors]\n",
      "Accuracy is  0.465 with std dev of  0.085 [SVC]\n",
      "Accuracy is  0.643 with std dev of  0.087 [Ensemble]\n"
     ]
    }
   ],
   "source": [
    "for clf, label in zip([rf, et, knn, svc, eclf], ['Random Forest', 'Extra Trees', 'KNeighbors', 'SVC', 'Ensemble']):\n",
    "    scores = cross_val_score(clf, X, y, cv=10, scoring='accuracy')\n",
    "    print(\"Accuracy is {1: .3f} with std dev of {2: .3f} [{0}]\".format(label, scores.mean(), scores.std()))\n",
    "    "
   ]
  },
  {
   "cell_type": "markdown",
   "metadata": {},
   "source": [
    "<div class=\"alert alert-block alert-danger\">\n",
    "<b>DIY: </b> What will happen in case of tie ? Check out the documentation. \n",
    "</div>"
   ]
  },
  {
   "cell_type": "markdown",
   "metadata": {},
   "source": [
    "## Boosting"
   ]
  },
  {
   "cell_type": "code",
   "execution_count": 35,
   "metadata": {
    "ExecuteTime": {
     "end_time": "2019-06-07T03:34:19.467314Z",
     "start_time": "2019-06-07T03:34:19.121389Z"
    }
   },
   "outputs": [],
   "source": [
    "from sklearn.ensemble import AdaBoostClassifier, GradientBoostingClassifier\n",
    "from xgboost import XGBClassifier\n",
    "from mlxtend.classifier import EnsembleVoteClassifier"
   ]
  },
  {
   "cell_type": "code",
   "execution_count": 36,
   "metadata": {
    "ExecuteTime": {
     "end_time": "2019-06-07T03:34:20.274262Z",
     "start_time": "2019-06-07T03:34:20.269648Z"
    }
   },
   "outputs": [],
   "source": [
    "# Define AdaBoost Classifier\n",
    "ada_boost = AdaBoostClassifier()\n",
    "\n",
    "# Define Gradient Boosting Classifier\n",
    "grad_boost = GradientBoostingClassifier()\n",
    "\n",
    "# Define XG Boosting Classifier\n",
    "xgb_boost = XGBClassifier()\n",
    "\n",
    "boost_array = [ada_boost, grad_boost, xgb_boost]"
   ]
  },
  {
   "cell_type": "code",
   "execution_count": 37,
   "metadata": {
    "ExecuteTime": {
     "end_time": "2019-06-07T03:34:21.123989Z",
     "start_time": "2019-06-07T03:34:21.121036Z"
    }
   },
   "outputs": [],
   "source": [
    "eclf = EnsembleVoteClassifier(clfs = boost_array, voting='hard')"
   ]
  },
  {
   "cell_type": "code",
   "execution_count": 38,
   "metadata": {
    "ExecuteTime": {
     "end_time": "2019-06-07T03:34:21.857310Z",
     "start_time": "2019-06-07T03:34:21.853660Z"
    }
   },
   "outputs": [],
   "source": [
    "labels = ['Ada Boost', 'Grad Boost', 'XG Boost', 'Ensemble']"
   ]
  },
  {
   "cell_type": "code",
   "execution_count": 39,
   "metadata": {
    "ExecuteTime": {
     "start_time": "2019-06-07T03:34:43.220Z"
    }
   },
   "outputs": [
    {
     "name": "stdout",
     "output_type": "stream",
     "text": [
      "Accuracy is  0.641 with std dev of  0.082 [Ada Boost]\n",
      "Accuracy is  0.658 with std dev of  0.111 [Grad Boost]\n",
      "Accuracy is  0.663 with std dev of  0.101 [XG Boost]\n",
      "Accuracy is  0.665 with std dev of  0.104 [Ensemble]\n"
     ]
    }
   ],
   "source": [
    "for clf, label in zip([ada_boost, grad_boost, xgb_boost, eclf], labels):\n",
    "    scores = cross_val_score(clf, X, y, cv=10, scoring='accuracy')\n",
    "    print(\"Accuracy is {1: .3f} with std dev of {2: .3f} [{0}]\".format(label, scores.mean(), scores.std()))"
   ]
  },
  {
   "cell_type": "markdown",
   "metadata": {},
   "source": [
    "## Stacking"
   ]
  },
  {
   "cell_type": "code",
   "execution_count": 40,
   "metadata": {
    "ExecuteTime": {
     "end_time": "2019-06-07T03:35:03.610517Z",
     "start_time": "2019-06-07T03:35:03.222477Z"
    }
   },
   "outputs": [],
   "source": [
    "from sklearn.linear_model import LogisticRegression\n",
    "from mlxtend.classifier import StackingClassifier"
   ]
  },
  {
   "cell_type": "code",
   "execution_count": 41,
   "metadata": {
    "ExecuteTime": {
     "end_time": "2019-06-07T03:35:04.470573Z",
     "start_time": "2019-06-07T03:35:04.293023Z"
    }
   },
   "outputs": [],
   "source": [
    "clf1 = KNeighborsClassifier()\n",
    "clf2 = RandomForestClassifier()\n",
    "lr = LogisticRegression()\n",
    "## Define stacking classifier\n",
    "sclf = StackingClassifier(classifiers=[clf1, clf2], \n",
    "                          meta_classifier=lr)"
   ]
  },
  {
   "cell_type": "code",
   "execution_count": 42,
   "metadata": {
    "ExecuteTime": {
     "end_time": "2019-06-06T09:57:18.062670Z",
     "start_time": "2019-06-06T09:57:18.059888Z"
    }
   },
   "outputs": [],
   "source": [
    "labels = ['KNN', 'Random Forest', 'Stacking Classifier']\n",
    "clf_array = [clf1, clf2, sclf]"
   ]
  },
  {
   "cell_type": "code",
   "execution_count": 43,
   "metadata": {
    "ExecuteTime": {
     "end_time": "2019-06-06T09:57:19.269171Z",
     "start_time": "2019-06-06T09:57:18.583182Z"
    }
   },
   "outputs": [
    {
     "name": "stdout",
     "output_type": "stream",
     "text": [
      "Accuracy is  0.500 with std dev of  0.086 [KNN]\n",
      "Accuracy is  0.630 with std dev of  0.094 [Random Forest]\n",
      "Accuracy is  0.630 with std dev of  0.086 [Stacking Classifier]\n"
     ]
    }
   ],
   "source": [
    "for clf, label in zip(clf_array, labels):\n",
    "    scores = cross_val_score(clf, X, y, cv=10, scoring='accuracy')\n",
    "    print(\"Accuracy is {1: .3f} with std dev of {2: .3f} [{0}]\".format(label, scores.mean(), scores.std()))"
   ]
  },
  {
   "cell_type": "markdown",
   "metadata": {
    "ExecuteTime": {
     "end_time": "2019-06-06T11:45:41.101207Z",
     "start_time": "2019-06-06T11:45:41.094342Z"
    }
   },
   "source": [
    "<div class=\"alert alert-block alert-danger\">\n",
    "<b> Questions: </b> \n",
    "    1. Which of these techniques can run in parallel ? \n",
    "</div>"
   ]
  },
  {
   "cell_type": "markdown",
   "metadata": {},
   "source": [
    "## Practice on the following dataset\n",
    "    - https://www.kaggle.com/lucidlenn/sloan-digital-sky-survey"
   ]
  },
  {
   "cell_type": "markdown",
   "metadata": {},
   "source": [
    "## References\n",
    "    - https://github.com/benedekrozemberczki/awesome-gradient-boosting-papers\n",
    "    - https://github.com/talperetz/awesome-gradient-boosting"
   ]
  },
  {
   "cell_type": "code",
   "execution_count": null,
   "metadata": {},
   "outputs": [],
   "source": []
  }
 ],
 "metadata": {
  "kernelspec": {
   "display_name": "Python 3",
   "language": "python",
   "name": "python3"
  },
  "language_info": {
   "codemirror_mode": {
    "name": "ipython",
    "version": 3
   },
   "file_extension": ".py",
   "mimetype": "text/x-python",
   "name": "python",
   "nbconvert_exporter": "python",
   "pygments_lexer": "ipython3",
   "version": "3.5.2"
  },
  "latex_envs": {
   "LaTeX_envs_menu_present": true,
   "autoclose": false,
   "autocomplete": true,
   "bibliofile": "biblio.bib",
   "cite_by": "apalike",
   "current_citInitial": 1,
   "eqLabelWithNumbers": true,
   "eqNumInitial": 1,
   "hotkeys": {
    "equation": "Ctrl-E",
    "itemize": "Ctrl-I"
   },
   "labels_anchors": false,
   "latex_user_defs": false,
   "report_style_numbering": false,
   "user_envs_cfg": false
  },
  "toc": {
   "base_numbering": 1,
   "nav_menu": {},
   "number_sections": true,
   "sideBar": true,
   "skip_h1_title": false,
   "title_cell": "Table of Contents",
   "title_sidebar": "Contents",
   "toc_cell": false,
   "toc_position": {},
   "toc_section_display": true,
   "toc_window_display": false
  },
  "varInspector": {
   "cols": {
    "lenName": 16,
    "lenType": 16,
    "lenVar": 40
   },
   "kernels_config": {
    "python": {
     "delete_cmd_postfix": "",
     "delete_cmd_prefix": "del ",
     "library": "var_list.py",
     "varRefreshCmd": "print(var_dic_list())"
    },
    "r": {
     "delete_cmd_postfix": ") ",
     "delete_cmd_prefix": "rm(",
     "library": "var_list.r",
     "varRefreshCmd": "cat(var_dic_list()) "
    }
   },
   "types_to_exclude": [
    "module",
    "function",
    "builtin_function_or_method",
    "instance",
    "_Feature"
   ],
   "window_display": false
  }
 },
 "nbformat": 4,
 "nbformat_minor": 2
}
