{
 "cells": [
  {
   "cell_type": "markdown",
   "metadata": {},
   "source": [
    "# Recommender Systems Assignment"
   ]
  },
  {
   "cell_type": "markdown",
   "metadata": {},
   "source": [
    "# Instructions \n",
    "This is a tutorial cum assignment on recommender systems. \n",
    "There are three modules in the assignment:\n",
    "1. Content Based Recommender Systems\n",
    "2. Collaborative Filtering Based Recommender Systems\n",
    "3. Evaluation Metrics for Recommender Systems\n",
    "\n",
    "There are example code snippets in each of the module followed by some practise questions. The sample code snippets will help you in answering the practise questions."
   ]
  },
  {
   "cell_type": "markdown",
   "metadata": {},
   "source": [
    "# Know Your Data"
   ]
  },
  {
   "cell_type": "markdown",
   "metadata": {},
   "source": [
    "We will first try to understand our data. There are two datasets used in the entire assignment. The data files are provided in the assignment folder itself. \n",
    "1. Module 1 on content based recommendations uses IMDB movie dataset \"Content_file_IMDB.csv\" consisting of movie information on 250 popular movies.  \n",
    "\n",
    "2. Module 2 on collaborative filtering uses movie lens data. There are two data files for module 2.\n",
    "\n",
    "    a. File \"u.data\". Will be used for Collaborative filtering.\n",
    " \n",
    "    b. A sparse version of the same data \"u_sparse.data\". Will be used for cold start recommendations.\n",
    "    The files are tab seperated and contain the entities in following order: UserId, MovieID, rating given by user UserId to MovieID and the timestamp.\n",
    "    \n",
    "    \n",
    "Below are some visualizations of these datasets.    "
   ]
  },
  {
   "cell_type": "code",
   "execution_count": 49,
   "metadata": {},
   "outputs": [
    {
     "name": "stdout",
     "output_type": "stream",
     "text": [
      "The dimensions of data \n",
      "(250, 38)\n",
      "Sample data\n"
     ]
    },
    {
     "data": {
      "text/html": [
       "<div>\n",
       "<style>\n",
       "    .dataframe thead tr:only-child th {\n",
       "        text-align: right;\n",
       "    }\n",
       "\n",
       "    .dataframe thead th {\n",
       "        text-align: left;\n",
       "    }\n",
       "\n",
       "    .dataframe tbody tr th {\n",
       "        vertical-align: top;\n",
       "    }\n",
       "</style>\n",
       "<table border=\"1\" class=\"dataframe\">\n",
       "  <thead>\n",
       "    <tr style=\"text-align: right;\">\n",
       "      <th></th>\n",
       "      <th>Unnamed: 0</th>\n",
       "      <th>Title</th>\n",
       "      <th>Year</th>\n",
       "      <th>Rated</th>\n",
       "      <th>Released</th>\n",
       "      <th>Runtime</th>\n",
       "      <th>Genre</th>\n",
       "      <th>Director</th>\n",
       "      <th>Writer</th>\n",
       "      <th>Actors</th>\n",
       "      <th>Plot</th>\n",
       "      <th>Language</th>\n",
       "      <th>Country</th>\n",
       "      <th>Awards</th>\n",
       "      <th>Poster</th>\n",
       "      <th>Ratings.Source</th>\n",
       "      <th>Ratings.Value</th>\n",
       "      <th>Metascore</th>\n",
       "      <th>imdbRating</th>\n",
       "      <th>imdbVotes</th>\n",
       "      <th>imdbID</th>\n",
       "      <th>Type</th>\n",
       "      <th>tomatoMeter</th>\n",
       "      <th>tomatoImage</th>\n",
       "      <th>tomatoRating</th>\n",
       "      <th>tomatoReviews</th>\n",
       "      <th>tomatoFresh</th>\n",
       "      <th>tomatoRotten</th>\n",
       "      <th>tomatoConsensus</th>\n",
       "      <th>tomatoUserMeter</th>\n",
       "      <th>tomatoUserRating</th>\n",
       "      <th>tomatoUserReviews</th>\n",
       "      <th>tomatoURL</th>\n",
       "      <th>DVD</th>\n",
       "      <th>BoxOffice</th>\n",
       "      <th>Production</th>\n",
       "      <th>Website</th>\n",
       "      <th>Response</th>\n",
       "    </tr>\n",
       "  </thead>\n",
       "  <tbody>\n",
       "    <tr>\n",
       "      <th>0</th>\n",
       "      <td>1</td>\n",
       "      <td>The Shawshank Redemption</td>\n",
       "      <td>1994</td>\n",
       "      <td>R</td>\n",
       "      <td>14 Oct 1994</td>\n",
       "      <td>142 min</td>\n",
       "      <td>Crime, Drama</td>\n",
       "      <td>Frank Darabont</td>\n",
       "      <td>Stephen King (short story \"Rita Hayworth and S...</td>\n",
       "      <td>Tim Robbins, Morgan Freeman, Bob Gunton, Willi...</td>\n",
       "      <td>Two imprisoned men bond over a number of years...</td>\n",
       "      <td>English</td>\n",
       "      <td>USA</td>\n",
       "      <td>Nominated for 7 Oscars. Another 19 wins &amp; 30 n...</td>\n",
       "      <td>https://images-na.ssl-images-amazon.com/images...</td>\n",
       "      <td>Internet Movie Database</td>\n",
       "      <td>9.3/10</td>\n",
       "      <td>80.0</td>\n",
       "      <td>9.3</td>\n",
       "      <td>1,825,626</td>\n",
       "      <td>tt0111161</td>\n",
       "      <td>movie</td>\n",
       "      <td>NaN</td>\n",
       "      <td>NaN</td>\n",
       "      <td>NaN</td>\n",
       "      <td>NaN</td>\n",
       "      <td>NaN</td>\n",
       "      <td>NaN</td>\n",
       "      <td>NaN</td>\n",
       "      <td>NaN</td>\n",
       "      <td>NaN</td>\n",
       "      <td>NaN</td>\n",
       "      <td>http://www.rottentomatoes.com/m/shawshank_rede...</td>\n",
       "      <td>27 Jan 1998</td>\n",
       "      <td>NaN</td>\n",
       "      <td>Columbia Pictures</td>\n",
       "      <td>NaN</td>\n",
       "      <td>True</td>\n",
       "    </tr>\n",
       "    <tr>\n",
       "      <th>1</th>\n",
       "      <td>2</td>\n",
       "      <td>The Godfather</td>\n",
       "      <td>1972</td>\n",
       "      <td>R</td>\n",
       "      <td>24 Mar 1972</td>\n",
       "      <td>175 min</td>\n",
       "      <td>Crime, Drama</td>\n",
       "      <td>Francis Ford Coppola</td>\n",
       "      <td>Mario Puzo (screenplay), Francis Ford Coppola ...</td>\n",
       "      <td>Marlon Brando, Al Pacino, James Caan, Richard ...</td>\n",
       "      <td>The aging patriarch of an organized crime dyna...</td>\n",
       "      <td>English, Italian, Latin</td>\n",
       "      <td>USA</td>\n",
       "      <td>Won 3 Oscars. Another 23 wins &amp; 27 nominations.</td>\n",
       "      <td>https://images-na.ssl-images-amazon.com/images...</td>\n",
       "      <td>Internet Movie Database</td>\n",
       "      <td>9.2/10</td>\n",
       "      <td>100.0</td>\n",
       "      <td>9.2</td>\n",
       "      <td>1,243,444</td>\n",
       "      <td>tt0068646</td>\n",
       "      <td>movie</td>\n",
       "      <td>NaN</td>\n",
       "      <td>NaN</td>\n",
       "      <td>NaN</td>\n",
       "      <td>NaN</td>\n",
       "      <td>NaN</td>\n",
       "      <td>NaN</td>\n",
       "      <td>NaN</td>\n",
       "      <td>NaN</td>\n",
       "      <td>NaN</td>\n",
       "      <td>NaN</td>\n",
       "      <td>http://www.rottentomatoes.com/m/godfather/</td>\n",
       "      <td>09 Oct 2001</td>\n",
       "      <td>NaN</td>\n",
       "      <td>Paramount Pictures</td>\n",
       "      <td>http://www.thegodfather.com</td>\n",
       "      <td>True</td>\n",
       "    </tr>\n",
       "  </tbody>\n",
       "</table>\n",
       "</div>"
      ],
      "text/plain": [
       "   Unnamed: 0                     Title  Year Rated     Released  Runtime  \\\n",
       "0           1  The Shawshank Redemption  1994     R  14 Oct 1994  142 min   \n",
       "1           2             The Godfather  1972     R  24 Mar 1972  175 min   \n",
       "\n",
       "          Genre              Director  \\\n",
       "0  Crime, Drama        Frank Darabont   \n",
       "1  Crime, Drama  Francis Ford Coppola   \n",
       "\n",
       "                                              Writer  \\\n",
       "0  Stephen King (short story \"Rita Hayworth and S...   \n",
       "1  Mario Puzo (screenplay), Francis Ford Coppola ...   \n",
       "\n",
       "                                              Actors  \\\n",
       "0  Tim Robbins, Morgan Freeman, Bob Gunton, Willi...   \n",
       "1  Marlon Brando, Al Pacino, James Caan, Richard ...   \n",
       "\n",
       "                                                Plot                 Language  \\\n",
       "0  Two imprisoned men bond over a number of years...                  English   \n",
       "1  The aging patriarch of an organized crime dyna...  English, Italian, Latin   \n",
       "\n",
       "  Country                                             Awards  \\\n",
       "0     USA  Nominated for 7 Oscars. Another 19 wins & 30 n...   \n",
       "1     USA    Won 3 Oscars. Another 23 wins & 27 nominations.   \n",
       "\n",
       "                                              Poster           Ratings.Source  \\\n",
       "0  https://images-na.ssl-images-amazon.com/images...  Internet Movie Database   \n",
       "1  https://images-na.ssl-images-amazon.com/images...  Internet Movie Database   \n",
       "\n",
       "  Ratings.Value  Metascore  imdbRating  imdbVotes     imdbID   Type  \\\n",
       "0        9.3/10       80.0         9.3  1,825,626  tt0111161  movie   \n",
       "1        9.2/10      100.0         9.2  1,243,444  tt0068646  movie   \n",
       "\n",
       "   tomatoMeter  tomatoImage  tomatoRating  tomatoReviews  tomatoFresh  \\\n",
       "0          NaN          NaN           NaN            NaN          NaN   \n",
       "1          NaN          NaN           NaN            NaN          NaN   \n",
       "\n",
       "   tomatoRotten  tomatoConsensus  tomatoUserMeter  tomatoUserRating  \\\n",
       "0           NaN              NaN              NaN               NaN   \n",
       "1           NaN              NaN              NaN               NaN   \n",
       "\n",
       "   tomatoUserReviews                                          tomatoURL  \\\n",
       "0                NaN  http://www.rottentomatoes.com/m/shawshank_rede...   \n",
       "1                NaN         http://www.rottentomatoes.com/m/godfather/   \n",
       "\n",
       "           DVD BoxOffice          Production                      Website  \\\n",
       "0  27 Jan 1998       NaN   Columbia Pictures                          NaN   \n",
       "1  09 Oct 2001       NaN  Paramount Pictures  http://www.thegodfather.com   \n",
       "\n",
       "   Response  \n",
       "0      True  \n",
       "1      True  "
      ]
     },
     "execution_count": 49,
     "metadata": {},
     "output_type": "execute_result"
    }
   ],
   "source": [
    "# Data for content based recommendations\n",
    "import pandas as pd\n",
    "\n",
    "\n",
    "pd.set_option('display.max_columns', 100)\n",
    "df = pd.read_csv('Content_file_IMDB.csv')\n",
    "\n",
    "print(\"The dimensions of data \")\n",
    "print(df.shape)\n",
    "print(\"Sample data\")\n",
    "df.head(2) # display top two rows of the data"
   ]
  },
  {
   "cell_type": "code",
   "execution_count": 48,
   "metadata": {},
   "outputs": [
    {
     "name": "stdout",
     "output_type": "stream",
     "text": [
      "[UserId, MoviedId ,Rating ,Timestamp]\n",
      "The dimensions of data \n",
      "(100000, 1)\n",
      "Sample data\n",
      "0    [196, 242, 3, 881250949]\n",
      "Name: 0, dtype: object\n",
      "0    [186, 302, 3, 891717742]\n",
      "Name: 1, dtype: object\n"
     ]
    }
   ],
   "source": [
    "# Data for collaborative filtering\n",
    "\n",
    "import pandas as pd\n",
    "\n",
    "collaborative_data = pd.read_csv('ml-100k/u.data', sep=\" \", header=None) # load the data\n",
    "\n",
    "print(\"[UserId, MoviedId ,Rating ,Timestamp]\")\n",
    "print(\"The dimensions of data \")\n",
    "print(collaborative_data.shape)\n",
    "print(\"Sample data\")\n",
    "print(collaborative_data.iloc[0].str.split('\\t'))# first row of the file iloc[index]\n",
    "print(collaborative_data.iloc[1].str.split('\\t')) # since it is tab seperated split the line using tab '\\t'\n"
   ]
  },
  {
   "cell_type": "markdown",
   "metadata": {},
   "source": [
    "# Module 1: Content Based Recommendations\n",
    "In this module we will learn to:\n",
    "1. Construct content based feature vectors for items(movies).\n",
    "2. Compute similarity between the items to recommend similar items."
   ]
  },
  {
   "cell_type": "markdown",
   "metadata": {},
   "source": [
    "Pre-processing data. Choosing the required features(columns)."
   ]
  },
  {
   "cell_type": "code",
   "execution_count": 62,
   "metadata": {
    "collapsed": true
   },
   "outputs": [],
   "source": [
    "import pandas as pd\n",
    "\n",
    "\n",
    "pd.set_option('display.max_columns', 100)\n",
    "df = pd.read_csv('Content_file_IMDB.csv')\n",
    "df = df[['Title','Genre','Director','Actors','Plot']]\n",
    "# df.head()"
   ]
  },
  {
   "cell_type": "markdown",
   "metadata": {},
   "source": [
    "Transforming the full names of actors and directors in single words so they are considered as unique values."
   ]
  },
  {
   "cell_type": "code",
   "execution_count": 63,
   "metadata": {
    "collapsed": true
   },
   "outputs": [],
   "source": [
    "import numpy as np\n",
    "from sklearn.metrics.pairwise import cosine_similarity\n",
    "from sklearn.feature_extraction.text import CountVectorizer\n",
    "from rake_nltk import Rake\n",
    "\n",
    "# discarding the commas between the actors' full names and getting only the first three names\n",
    "\n",
    "df['Actors'] = df['Actors'].map(lambda x: x.split(',')[:3])\n",
    "\n",
    "# putting the genres in a list of words\n",
    "df['Genre'] = df['Genre'].map(lambda x: x.lower().split(','))\n",
    "\n",
    "df['Director'] = df['Director'].map(lambda x: x.split(' '))\n",
    "\n",
    "# merging together first and last name for each actor and director, so it's considered as one word \n",
    "# and there is no mix up between people sharing a first name\n",
    "for index, row in df.iterrows():\n",
    "    row['Actors'] = [x.lower().replace(' ','') for x in row['Actors']]\n",
    "    row['Director'] = ''.join(row['Director']).lower()"
   ]
  },
  {
   "cell_type": "markdown",
   "metadata": {},
   "source": [
    "Extracting the key words from the plot description to make movie profiles. Text preprocessing."
   ]
  },
  {
   "cell_type": "code",
   "execution_count": 64,
   "metadata": {
    "collapsed": true
   },
   "outputs": [],
   "source": [
    "# New column to store the keywords of the plot\n",
    "df['Key_words'] = \"\"\n",
    "\n",
    "for index, row in df.iterrows():\n",
    "    plot = row['Plot']\n",
    "    \n",
    "    # instantiating Rake, by default is uses english stopwords from NLTK\n",
    "    # and discard all puntuation characters\n",
    "    r = Rake()\n",
    "\n",
    "    # extracting the words by passing the text\n",
    "    r.extract_keywords_from_text(plot)\n",
    "\n",
    "    # getting the dictionary whith key words and their scores\n",
    "    key_words_dict_scores = r.get_word_degrees()\n",
    "    \n",
    "    # assigning the key words to the new column\n",
    "    row['Key_words'] = list(key_words_dict_scores.keys())\n",
    "\n",
    "# dropping the Plot column\n",
    "# df.drop(columns = ['Plot'], inplace = True)\n",
    "df.drop('Plot',axis = 1, inplace = True)\n",
    "df.set_index('Title', inplace = True)"
   ]
  },
  {
   "cell_type": "code",
   "execution_count": 66,
   "metadata": {
    "collapsed": true
   },
   "outputs": [],
   "source": [
    "# constructing bag of words vectors for movies\n",
    "df['bag_of_words'] = ''\n",
    "columns = df.columns\n",
    "for index, row in df.iterrows():\n",
    "#     print(\"index %s and row %s\"%(index,row))\n",
    "    words = ''\n",
    "    for col in columns:\n",
    "        if col != 'Director': # only one word in the column\n",
    "            words = words + ' '.join(row[col])+ ' '\n",
    "        else:\n",
    "            words = words + row[col]+ ' '\n",
    "    row['bag_of_words'] = words\n",
    "    \n",
    "# df.drop(columns = [col for col in df.columns if col!= 'bag_of_words'], inplace = True)\n",
    "df.drop([col for col in df.columns if col!= 'bag_of_words'], axis = 1, inplace = True)"
   ]
  },
  {
   "cell_type": "markdown",
   "metadata": {},
   "source": [
    "Obtaining the representations for movies"
   ]
  },
  {
   "cell_type": "code",
   "execution_count": 68,
   "metadata": {},
   "outputs": [
    {
     "data": {
      "text/plain": [
       "0    The Shawshank Redemption\n",
       "1               The Godfather\n",
       "2      The Godfather: Part II\n",
       "3             The Dark Knight\n",
       "4                12 Angry Men\n",
       "Name: Title, dtype: object"
      ]
     },
     "execution_count": 68,
     "metadata": {},
     "output_type": "execute_result"
    }
   ],
   "source": [
    "#Construct content based feature vectors for items(movies)\n",
    "\n",
    "from sklearn.feature_extraction.text import TfidfVectorizer\n",
    "# instantiating and generating the count matrix\n",
    "count = CountVectorizer()\n",
    "\n",
    "count_matrix = count.fit_transform(df['bag_of_words'])\n",
    "\n",
    "# creating a Series for the movie titles so they are associated to an ordered numerical\n",
    "# list I will use later to match the indexes\n",
    "\n",
    "indices = pd.Series(df.index)\n",
    "indices[:5]"
   ]
  },
  {
   "cell_type": "markdown",
   "metadata": {},
   "source": [
    "# EXERCISE\n",
    "1. In the above snippet use TfidfVectorizer instead of CountVectorizer and report the change in predictions.\n",
    "2. What is the aim of TFIDF?"
   ]
  },
  {
   "cell_type": "code",
   "execution_count": 69,
   "metadata": {},
   "outputs": [
    {
     "data": {
      "text/plain": [
       "array([[ 1.        ,  0.15789474,  0.13764944, ...,  0.05263158,\n",
       "         0.05263158,  0.05564149],\n",
       "       [ 0.15789474,  1.        ,  0.36706517, ...,  0.05263158,\n",
       "         0.05263158,  0.05564149],\n",
       "       [ 0.13764944,  0.36706517,  1.        , ...,  0.04588315,\n",
       "         0.04588315,  0.04850713],\n",
       "       ..., \n",
       "       [ 0.05263158,  0.05263158,  0.04588315, ...,  1.        ,\n",
       "         0.05263158,  0.05564149],\n",
       "       [ 0.05263158,  0.05263158,  0.04588315, ...,  0.05263158,\n",
       "         1.        ,  0.05564149],\n",
       "       [ 0.05564149,  0.05564149,  0.04850713, ...,  0.05564149,\n",
       "         0.05564149,  1.        ]])"
      ]
     },
     "execution_count": 69,
     "metadata": {},
     "output_type": "execute_result"
    }
   ],
   "source": [
    "# generating the cosine similarity matrix\n",
    "cosine_sim = cosine_similarity(X, X)\n",
    "cosine_sim"
   ]
  },
  {
   "cell_type": "markdown",
   "metadata": {},
   "source": [
    "# EXERCISE\n",
    "After getting the representations from CountVectorizer, we need to get  similarity between the movies.\n",
    "Cosine similarity is one such similarity measure.\n",
    "2. In the above code replace X with the relevant element to compute the cosine similarity matrix.\n",
    "Hint: X has the representations of the documents\n",
    "3. How is X interpreted? (Strucrure of X)\n"
   ]
  },
  {
   "cell_type": "code",
   "execution_count": 70,
   "metadata": {
    "collapsed": true
   },
   "outputs": [],
   "source": [
    "# Compute similarity between the items to recommend similar items.\n",
    "\n",
    "# function that takes in movie title as input and returns the top 10 recommended movies\n",
    "def recommendations(title, cosine_sim = cosine_sim):\n",
    "    \n",
    "    recommended_movies = []\n",
    "    \n",
    "    # gettin the index of the movie that matches the title\n",
    "    idx = indices[indices == title].index[0]\n",
    "\n",
    "    # creating a Series with the similarity scores in descending order\n",
    "    score_series = pd.Series(cosine_sim[idx]).sort_values(ascending = False)\n",
    "\n",
    "    # getting the indexes of the 10 most similar movies\n",
    "    top_10_indexes = list(score_series.iloc[1:11].index)\n",
    "    \n",
    "    # populating the list with the titles of the best 10 matching movies\n",
    "    for i in top_10_indexes:\n",
    "        recommended_movies.append(list(df.index)[i])\n",
    "        \n",
    "    return recommended_movies"
   ]
  },
  {
   "cell_type": "code",
   "execution_count": 71,
   "metadata": {},
   "outputs": [
    {
     "data": {
      "text/plain": [
       "['No Country for Old Men',\n",
       " 'The Departed',\n",
       " 'Rope',\n",
       " 'The Godfather',\n",
       " 'Reservoir Dogs',\n",
       " 'The Godfather: Part II',\n",
       " 'On the Waterfront',\n",
       " 'Goodfellas',\n",
       " 'Arsenic and Old Lace',\n",
       " 'The Big Lebowski']"
      ]
     },
     "execution_count": 71,
     "metadata": {},
     "output_type": "execute_result"
    }
   ],
   "source": [
    "recommendations('Fargo') "
   ]
  },
  {
   "cell_type": "markdown",
   "metadata": {},
   "source": [
    "# EXERCISE\n",
    "4. A user likes the movie id 16 what will be the top 10 recommendations for the user?\n"
   ]
  },
  {
   "cell_type": "markdown",
   "metadata": {},
   "source": [
    "# Module 2: Collaborative Filtering\n",
    "In this module we will learn to build collaborative recommender systems using a python library for collborative filtering called \"surprise\". It implements collaborative filtering model based methods like NMF,PMF,SVD and memory based collaborative filtering techniques such as KNN.\n",
    "\n",
    "Collaborative filtering methods work with utility matrices containg user x item ratings. Every cell in the utility matrix corresponds to the rating given by user \"i\" to item  to \"j\".\n",
    "\n",
    "This module has two parts:\n",
    "\n",
    "\n",
    "a. Building a collaborative system using SVD: Using the utility matrix the system predicts ratings for a new user-item pair and evaluate the performance using RMSE.\n",
    "\n",
    "\n",
    "b. System Cold Start Problem: Predicting ratings when the utility is relatively sparse i.e. majority of the cells in the matrix are empty. The amount of empty cells is given by the sparsity of the matrix.\n",
    "Sparsity is given by:\n",
    "\\begin{equation*}\n",
    "1-\\frac{|RATINGS|}{|USERS|*|ITEMS|}\n",
    "\\end{equation*}\n"
   ]
  },
  {
   "cell_type": "code",
   "execution_count": 12,
   "metadata": {},
   "outputs": [
    {
     "name": "stdout",
     "output_type": "stream",
     "text": [
      "RMSE: 1.1318\n",
      "RMSE: 0.9515\n",
      "RMSE: 0.9406\n",
      "RMSE: 0.9334\n",
      "RMSE: 0.9288\n",
      "RMSE: 0.9219\n",
      "RMSE: 0.9162\n",
      "RMSE: 0.9132\n",
      "RMSE: 0.9086\n",
      "RMSE: 0.9068\n",
      "RMSE: 0.9044\n",
      "RMSE: 0.9030\n",
      "RMSE: 0.9017\n",
      "RMSE: 0.9014\n",
      "RMSE: 0.9011\n",
      "RMSE: 0.9015\n",
      "RMSE: 0.9005\n",
      "RMSE: 0.8995\n",
      "RMSE: 0.9004\n",
      "RMSE: 0.9012\n"
     ]
    }
   ],
   "source": [
    "#Building a collaborative system using SVD\n",
    "\n",
    "\n",
    "from __future__ import (absolute_import, division, print_function,\n",
    "                        unicode_literals)\n",
    "\n",
    "from surprise import SVDpp\n",
    "from surprise import SVD\n",
    "from surprise import Dataset\n",
    "from surprise import Reader\n",
    "from surprise import accuracy\n",
    "from surprise.model_selection import train_test_split\n",
    "from surprise.model_selection import GridSearchCV\n",
    "from surprise.model_selection import cross_validate\n",
    "\n",
    "# Use movielens-100K\n",
    "reader = Reader(line_format='user item rating timestamp', sep='\\t')\n",
    "data = Dataset.load_from_file('ml-100k/u.data',reader=reader)\n",
    "# data = Dataset.load_builtin('ml-100k')\n",
    "trainset, testset = train_test_split(data, test_size=.15)\n",
    "\n",
    "# ----- SVD ----- # \n",
    "\n",
    "rmse_dict = {}\n",
    "for i in range (0,100,5):\n",
    "    algo = SVD(n_factors=160, n_epochs=int(i), lr_all=0.005, reg_all=0.1) # Setting up the SVD algorithm using hyperparameters.\n",
    "    algo.fit(trainset)\n",
    "    test_pred = algo.test(testset)\n",
    "    rmse_dict[i] = accuracy.rmse(test_pred, verbose=True)\n",
    "    \n",
    "# print(\"SVD : Test Set\")\n",
    "# accuracy.rmse(test_pred, verbose=True)"
   ]
  },
  {
   "cell_type": "code",
   "execution_count": 73,
   "metadata": {},
   "outputs": [
    {
     "name": "stdout",
     "output_type": "stream",
     "text": [
      "Number of items 1682\n",
      "Number of users 943\n",
      "Number of ratings 100000\n",
      "sparsity of data is 0.9369533063577546\n"
     ]
    }
   ],
   "source": [
    "# Sparsity of the dataset.\n",
    "\n",
    "print(\"Number of items %s\"%(data.build_full_trainset().n_items)) # number of rows\n",
    "print(\"Number of users %s\"%(data.build_full_trainset().n_users)) # number of columns\n",
    "print(\"Number of ratings %s\"%(data.build_full_trainset().n_ratings)) # non empty cells in the utility matrix\n",
    "sparsity  = 1-((data.build_full_trainset().n_ratings)/(data.build_full_trainset().n_items*data.build_full_trainset().n_users))\n",
    "print(\"sparsity of data is %s\"%(sparsity))"
   ]
  },
  {
   "cell_type": "code",
   "execution_count": 9,
   "metadata": {},
   "outputs": [
    {
     "name": "stdout",
     "output_type": "stream",
     "text": [
      "100001\n",
      "40000\n"
     ]
    }
   ],
   "source": [
    "# creating a sparse file, uncomment to create your own sparse file. Every line in the file corresponds to a rating by user to a movie\n",
    "# import random\n",
    "# f = open('sparse/ml-100k_sparse/u_spar_sor.data','r')\n",
    "# lines = f.readlines()\n",
    "# print(len(lines))\n",
    "# deleted = []\n",
    "# number  = int(int(len(lines))*0.40)\n",
    "# indices_to_delete = random.sample(range(len(lines)),number )\n",
    "\n",
    "# # sort to delete biggest index first \n",
    "# indices_to_delete.sort(reverse=True)\n",
    "\n",
    "# for i in indices_to_delete:\n",
    "#     # lines.pop(i) delete item at index i and return the item\n",
    "#     # do you need it or its index in the original file than\n",
    "#     deleted.append((i, lines.pop(i)))\n",
    "# f.close()    \n",
    "# print(len(deleted))   \n",
    "# with open('/home/sailaja/research/jupyter_code/Recommender-System-Assignment/sparse/ml-100k_sparse/u_sparse.data','w') as g:\n",
    "#     for line in lines:\n",
    "#         if line not in deleted:\n",
    "#             g.write(line)\n",
    "# g.close()            \n",
    "# # print(deleted)"
   ]
  },
  {
   "cell_type": "code",
   "execution_count": 74,
   "metadata": {},
   "outputs": [
    {
     "name": "stdout",
     "output_type": "stream",
     "text": [
      "1607\n",
      "943\n",
      "60001\n",
      "sparsity of data is 0.960405859571163\n",
      "RMSE: 1.1405\n",
      "RMSE: 0.9738\n",
      "RMSE: 0.9614\n",
      "RMSE: 0.9546\n",
      "RMSE: 0.9533\n",
      "RMSE: 0.9471\n",
      "RMSE: 0.9464\n",
      "RMSE: 0.9426\n",
      "RMSE: 0.9417\n",
      "RMSE: 0.9404\n",
      "RMSE: 0.9368\n",
      "RMSE: 0.9383\n",
      "RMSE: 0.9378\n",
      "RMSE: 0.9349\n",
      "RMSE: 0.9355\n",
      "RMSE: 0.9382\n",
      "RMSE: 0.9342\n",
      "RMSE: 0.9363\n",
      "RMSE: 0.9370\n",
      "RMSE: 0.9364\n"
     ]
    }
   ],
   "source": [
    "#System Cold Start Problem\n",
    "\n",
    "from __future__ import (absolute_import, division, print_function,\n",
    "                        unicode_literals)\n",
    "from surprise import SVDpp\n",
    "from surprise import SVD\n",
    "from surprise import Dataset\n",
    "from surprise import Reader\n",
    "from surprise import accuracy\n",
    "from surprise.model_selection import train_test_split\n",
    "from surprise.model_selection import GridSearchCV\n",
    "from surprise.model_selection import cross_validate\n",
    "\n",
    "print(data_sparse.build_full_trainset().n_items)\n",
    "print(data_sparse.build_full_trainset().n_users)\n",
    "print(data_sparse.build_full_trainset().n_ratings)\n",
    "sparsity  = 1-((data_sparse.build_full_trainset().n_ratings)/(data_sparse.build_full_trainset().n_items*data_sparse.build_full_trainset().n_users))\n",
    "print(\"sparsity of data is %s\"%(sparsity))\n",
    "\n",
    "\n",
    "\n",
    "# Use movielens-100K\n",
    "reader = Reader(line_format='user item rating timestamp', sep='\\t')\n",
    "data_sparse = Dataset.load_from_file('sparse/ml-100k_sparse/u_sparse.data',reader=reader)\n",
    "# data = Dataset.load_builtin('ml-100k')\n",
    "trainset_sparse, testset_sparse = train_test_split(data_sparse, test_size=.15)\n",
    "\n",
    "# ----- SVD ----- #\n",
    "\n",
    "# Use the new parameters with the train data\n",
    "rmse_dict_sparse = {}\n",
    "for i in range (0,100,5):\n",
    "    algo = SVD(n_factors=160, n_epochs=int(i), lr_all=0.005, reg_all=0.1)\n",
    "    algo.fit(trainset_sparse)\n",
    "    test_pred = algo.test(testset_sparse)\n",
    "    rmse_dict_sparse[i] = accuracy.rmse(test_pred, verbose=True)\n",
    "    \n",
    "# print(\"SVD : Test Set\")\n",
    "# accuracy.rmse(test_pred, verbose=True)\n",
    "\n",
    "\n",
    "\n",
    "\n",
    "\n",
    "\n"
   ]
  },
  {
   "cell_type": "code",
   "execution_count": 79,
   "metadata": {},
   "outputs": [
    {
     "data": {
      "image/png": "[encoded data removed]",
      "text/plain": [
       "<matplotlib.figure.Figure at 0x7f9bb3fd8630>"
      ]
     },
     "metadata": {},
     "output_type": "display_data"
    }
   ],
   "source": [
    "# Effects of sparsity on the data. \n",
    "\n",
    "import matplotlib.pylab as plt\n",
    "plt.xlabel('Epochs')\n",
    "plt.ylabel('RMSE')\n",
    "plt.title(\"RMSE Plots\")\n",
    "\n",
    "\n",
    "lists = sorted(rmse_dict.items()) # sorted by key, return a list of tuples\n",
    "x, y = zip(*lists) # unpack a list of pairs into two tuples\n",
    "lists = sorted(rmse_dict_sparse.items())\n",
    "i,j = zip(*lists) # unpack a list of pairs into two tuples\n",
    "\n",
    "plt.plot(x, y)\n",
    "plt.plot(i,j)\n",
    "plt.legend(['CF', 'CF on sparse data(System cold start)'], loc='upper left')\n",
    "plt.show()"
   ]
  },
  {
   "cell_type": "markdown",
   "metadata": {},
   "source": [
    "# EXERCISE\n",
    "1. In the above snippets, use tuning the hyperparameters like epochs and factors to witness change in the RMSE curve. \n",
    "2. Does sparsity effect RMSE? How?"
   ]
  },
  {
   "cell_type": "code",
   "execution_count": null,
   "metadata": {
    "collapsed": true,
    "scrolled": true
   },
   "outputs": [],
   "source": [
    "from surprise import KNNBasic\n",
    "from surprise import Dataset\n",
    "from surprise import Reader\n",
    "import os\n",
    "from surprise import NMF\n",
    "\n",
    "#------------------------load data from a file\n",
    "file_path = os.path.expanduser('ml-100k/u.data')\n",
    "reader = Reader(line_format='user item rating timestamp', sep='\\t')\n",
    "data = Dataset.load_from_file(file_path, reader=reader)\n",
    "\n",
    "\n",
    "\n",
    "from surprise import SVD\n",
    "from surprise import evaluate, print_perf\n",
    "import os\n",
    "\n",
    "\n",
    "#########---------------SVD\n",
    "print('')\n",
    "print('---------------SVD result-------------')\n",
    "data.split(n_folds=3)\n",
    "algo = SVD()\n",
    "perf = evaluate(algo, data, measures=['RMSE', 'MAE'])\n",
    "print_perf(perf)\n",
    "\n",
    "\n",
    "#########---------------PMF\n",
    "print('')\n",
    "print('---------------PMF result--------------')\n",
    "data.split(n_folds=3)\n",
    "algo = SVD(biased=False)\n",
    "perf = evaluate(algo, data, measures=['RMSE', 'MAE'])\n",
    "print_perf(perf)\n",
    "\n",
    "\n",
    "##########--------MSD------User Based Collaborative Filtering algorithm\n",
    "print('')\n",
    "print('15--Neighboors--User Based Collaborative Filtering algorithm result')\n",
    "data.split(n_folds=3)\n",
    "algo = KNNBasic(k=10, sim_options = {'name':'MSD', 'user_based':True })\n",
    "perf = evaluate(algo, data, measures=['RMSE'])\n",
    "print_perf(perf)\n"
   ]
  },
  {
   "cell_type": "markdown",
   "metadata": {},
   "source": [
    "# EXERCISE\n",
    "1. In the above code which part of the code to change to make it item-item collaborative filtering.\n",
    "2. In the above snippet, what is the similarity measure used to compute similarity between two users in User Based Collaborative Filtering algorithm.\n",
    "3. Use cosine similarity to compute the similarity in User Based Collaborative Filtering algorithm.\n",
    "4. Compare the RMSE values of the above algorithms by playing around the hyperparameters such as the number of neighbours \"k\", number of cross validations folds \"n_folds\" the similarity measures \"name\" and record your observations."
   ]
  },
  {
   "cell_type": "markdown",
   "metadata": {},
   "source": [
    "# Module 3: Evaluation measures \n",
    "## EXERCISE\n",
    "Evaluation measures depend on the nature of recommendations.\n",
    "Such as RMSE is useful when predicting an exact value to a variable.\n",
    "Given below are few evaluation measures map them to their corresponding descriptions. Use the indices to mark mappings \n",
    "such as 1-->a."
   ]
  },
  {
   "cell_type": "markdown",
   "metadata": {},
   "source": [
    "# Metric                   Description\n",
    "1. F1$\\;\\;\\;\\;\\;\\;\\;\\;\\;\\;\\;\\;\\;\\;\\;\\;\\;\\; $a. The ratio of empty and total entries in the utility matrix. \n",
    "2. Precision$\\;\\;\\;\\;\\;\\;\\;\\;\\;\\;\\;$b. Proportion of relevant results that are recommended.  \n",
    "3. MAE$\\;\\;\\;\\;\\;\\;\\;\\;\\;\\;\\;\\;\\;\\;\\;\\;$c. The proportion of results classified correctly(both positive and negative). \n",
    "4. Recall$\\;\\;\\;\\;\\;\\;\\;\\;\\;\\;\\;\\;\\;\\;$d. Deviation between actual and predicted ratings. \n",
    "5. Accuracy$\\;\\;\\;\\;\\;\\;\\;\\;\\;\\;\\;$e. Harmonic mean of precision and recall. \n",
    "6. Sparsity $\\;\\;\\;\\;\\;\\;\\;\\;\\;\\;\\;\\;$f. Proportion of recommended results that are relevant. \n"
   ]
  }
 ],
 "metadata": {
  "anaconda-cloud": {},
  "kernelspec": {
   "display_name": "tensorflow",
   "language": "python",
   "name": "tensorflow"
  },
  "language_info": {
   "codemirror_mode": {
    "name": "ipython",
    "version": 3
   },
   "file_extension": ".py",
   "mimetype": "text/x-python",
   "name": "python",
   "nbconvert_exporter": "python",
   "pygments_lexer": "ipython3",
   "version": "3.5.2"
  }
 },
 "nbformat": 4,
 "nbformat_minor": 2
}
