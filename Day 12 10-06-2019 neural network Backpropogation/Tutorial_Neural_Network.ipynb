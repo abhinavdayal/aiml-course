{
  "nbformat": 4,
  "nbformat_minor": 0,
  "metadata": {
    "colab": {
      "name": "Tutorial_Neural_Network.ipynb",
      "version": "0.3.2",
      "provenance": [],
      "collapsed_sections": []
    },
    "language_info": {
      "codemirror_mode": {
        "name": "ipython",
        "version": 3
      },
      "file_extension": ".py",
      "mimetype": "text/x-python",
      "name": "python",
      "nbconvert_exporter": "python",
      "pygments_lexer": "ipython3",
      "version": "3.6.5"
    },
    "kernelspec": {
      "display_name": "Python 3",
      "language": "python",
      "name": "python3"
    }
  },
  "cells": [
    {
      "cell_type": "code",
      "metadata": {
        "id": "oNnz9Pimj4t4",
        "colab_type": "code",
        "colab": {}
      },
      "source": [
        "################################################################\n",
        "# MLP architecture for XOR GATE  hidden layer -1               #\n",
        "#input layer------>input nodes - x1 & x2                       #\n",
        "# hidden layer----->hidden nodes - h1 & h2                     #\n",
        "# output layer------>output nodes - y1                         #\n",
        "################################################################"
      ],
      "execution_count": 0,
      "outputs": []
    },
    {
      "cell_type": "code",
      "metadata": {
        "id": "ZvkvnRZUj4uC",
        "colab_type": "code",
        "colab": {}
      },
      "source": [
        "import numpy as np\n",
        "import math\n",
        "import random as rd\n",
        "import matplotlib.pyplot as plt\n",
        "#%matplotlib inline\n",
        "#import tensorflow"
      ],
      "execution_count": 0,
      "outputs": []
    },
    {
      "cell_type": "code",
      "metadata": {
        "id": "PPVGi0j2ol32",
        "colab_type": "code",
        "colab": {}
      },
      "source": [
        "############### Training Data Preparation ##############\n",
        "x = np.array([[0,0],[0,1],[1,0],[1,1]])\n",
        "y_xor = np.array([[0],[1],[1],[0]])\n",
        "y_and = np.array([[0],[0],[0],[1]])\n",
        "y_or = np.array([[0],[1],[1],[1]])\n",
        "\n",
        "def get_training_data(X,Y,n):\n",
        "\tnoise_x = 0.1\n",
        "\tX = np.repeat(X,[n for i in range(4)],axis=0)\n",
        "\tX = X + np.random.normal(0,noise_x,size=X.shape)\n",
        "\n",
        "\tY = np.repeat(Y,[n for i in range(4)],axis=0)\n",
        "\n",
        "\tidx = np.random.permutation(len(X))\n",
        "\tX,Y = X[idx],Y[idx]\n",
        "\treturn X,Y\n"
      ],
      "execution_count": 0,
      "outputs": []
    },
    {
      "cell_type": "code",
      "metadata": {
        "id": "aUtq6D-Bj4uP",
        "colab_type": "code",
        "colab": {}
      },
      "source": [
        "#### Building Block of Neural Network ####\n",
        "###### Hidden Node (Linear block) #######\n",
        "def linear_block(input_to_node,weight,bias):\n",
        "    node_output =np.dot(input_to_node,weight) +bias\n",
        "    return node_output\n",
        "## Activation Functions and Their Derivatives ##########\n",
        "#sigmoid function = 1/(1+exp(-x))#############################################################################\n",
        "def sigmoid(k):   \n",
        "    inter=np.exp(-1*k)\n",
        "    final=1/(1+inter)\n",
        "    return final\n",
        "\n",
        "# derivative of sigmoid ############\n",
        "def der_sigmoid(out):\n",
        "    result = out * (1-out)\n",
        "    return result\n",
        "  \n",
        "# Relu               ########################\n",
        "def relu(x):    \n",
        "    return np.maximum(x, 0)\n",
        "def dRelu(z):\n",
        "    return np.where(z <= 0, 0, 1)\n",
        "\n",
        "# TanH and it's derivative #########\n",
        "def tanh(x):\n",
        "    return np.tanh(x)\n",
        "\n",
        "def tanh_deriv(x):\n",
        "    return 1.0 - np.tanh(x)**2"
      ],
      "execution_count": 0,
      "outputs": []
    },
    {
      "cell_type": "code",
      "metadata": {
        "id": "pwK3rS6ij4uR",
        "colab_type": "code",
        "colab": {}
      },
      "source": [
        "######## Define a Neural Network function from the above building blocks ###########\n"
      ],
      "execution_count": 0,
      "outputs": []
    },
    {
      "cell_type": "code",
      "metadata": {
        "id": "_McvIRW8wh06",
        "colab_type": "code",
        "colab": {}
      },
      "source": [
        "######## Define functions for Forward Pass and Backward Propagation ##############\n"
      ],
      "execution_count": 0,
      "outputs": []
    },
    {
      "cell_type": "code",
      "metadata": {
        "id": "hYBfR5Bk0rQ9",
        "colab_type": "code",
        "colab": {}
      },
      "source": [
        "######## Formulate the Hyper Parameters #################"
      ],
      "execution_count": 0,
      "outputs": []
    },
    {
      "cell_type": "code",
      "metadata": {
        "id": "vJmguixswjD5",
        "colab_type": "code",
        "colab": {}
      },
      "source": [
        "#### Train the Neural Network with more data points########\n",
        "###### Number of data point you can configure #########\n",
        "Number_of_data_points  = 10\n",
        "Number_of_test_data_points = 5\n",
        "##### You can change any Gate configuration here #######\n",
        "y = y_or\n",
        "Data,Label = get_training_data(x,y,Number_of_data_points)\n",
        "#print(Data.shape)\n",
        "#print(label.shape)\n",
        "Test_data,Test_labels = get_training_data(x,y,Number_of_test_data_points)"
      ],
      "execution_count": 0,
      "outputs": []
    },
    {
      "cell_type": "code",
      "metadata": {
        "id": "aVQudwvbwmnd",
        "colab_type": "code",
        "colab": {}
      },
      "source": [
        "####### Error Plot and Accuracy Plot ###########"
      ],
      "execution_count": 0,
      "outputs": []
    },
    {
      "cell_type": "markdown",
      "metadata": {
        "id": "PfFjyCGQxkg-",
        "colab_type": "text"
      },
      "source": [
        ""
      ]
    }
  ]
}