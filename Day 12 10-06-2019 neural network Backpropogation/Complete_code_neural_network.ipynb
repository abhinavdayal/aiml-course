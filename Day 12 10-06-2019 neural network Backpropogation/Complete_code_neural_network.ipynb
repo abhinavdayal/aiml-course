{
  "nbformat": 4,
  "nbformat_minor": 0,
  "metadata": {
    "colab": {
      "name": "Complete_code_neural_network.ipynb",
      "version": "0.3.2",
      "provenance": [],
      "collapsed_sections": []
    },
    "language_info": {
      "codemirror_mode": {
        "name": "ipython",
        "version": 3
      },
      "file_extension": ".py",
      "mimetype": "text/x-python",
      "name": "python",
      "nbconvert_exporter": "python",
      "pygments_lexer": "ipython3",
      "version": "3.6.5"
    },
    "kernelspec": {
      "display_name": "Python 3",
      "language": "python",
      "name": "python3"
    }
  },
  "cells": [
    {
      "cell_type": "code",
      "metadata": {
        "id": "oNnz9Pimj4t4",
        "colab_type": "code",
        "colab": {}
      },
      "source": [
        "################################################################\n",
        "# MLP architecture for XOR GATE  hidden layer -1               #\n",
        "#input layer------>input nodes - x1 & x2                       #\n",
        "# hidden layer----->hidden nodes - h1 & h2                     #\n",
        "# output layer------>output nodes - y1                         #\n",
        "################################################################"
      ],
      "execution_count": 0,
      "outputs": []
    },
    {
      "cell_type": "code",
      "metadata": {
        "id": "ZvkvnRZUj4uC",
        "colab_type": "code",
        "colab": {}
      },
      "source": [
        "import numpy as np\n",
        "import math\n",
        "import random as rd\n",
        "import matplotlib.pyplot as plt\n",
        "#%matplotlib inline\n",
        "#import tensorflow"
      ],
      "execution_count": 0,
      "outputs": []
    },
    {
      "cell_type": "code",
      "metadata": {
        "id": "PPVGi0j2ol32",
        "colab_type": "code",
        "colab": {}
      },
      "source": [
        "############### Training Data Preparation ##############\n",
        "x = np.array([[0,0],[0,1],[1,0],[1,1]])\n",
        "y_xor = np.array([[0],[1],[1],[0]])\n",
        "y_and = np.array([[0],[0],[0],[1]])\n",
        "y_or = np.array([[0],[1],[1],[1]])\n",
        "\n",
        "def get_training_data(X,Y,n):\n",
        "\tnoise_x = 0.1\n",
        "\tX = np.repeat(X,[n for i in range(4)],axis=0)\n",
        "\tX = X + np.random.normal(0,noise_x,size=X.shape)\n",
        "\n",
        "\tY = np.repeat(Y,[n for i in range(4)],axis=0)\n",
        "\n",
        "\tidx = np.random.permutation(len(X))\n",
        "\tX,Y = X[idx],Y[idx]\n",
        "\treturn X,Y\n"
      ],
      "execution_count": 0,
      "outputs": []
    },
    {
      "cell_type": "markdown",
      "metadata": {
        "id": "v9WxpIvVzf9_",
        "colab_type": "text"
      },
      "source": [
        ""
      ]
    },
    {
      "cell_type": "code",
      "metadata": {
        "id": "aUtq6D-Bj4uP",
        "colab_type": "code",
        "colab": {}
      },
      "source": [
        "#### Building Block of Neural Network ####\n",
        "###### Hidden Node (Linear block) #######\n",
        "def linear_block(input_to_node,weight,bias):\n",
        "    node_output =np.dot(input_to_node,weight) +bias\n",
        "    return node_output\n",
        "## Activation Functions and Their Derivatives ##########\n",
        "#sigmoid function = 1/(1+exp(-x))#############################################################################\n",
        "def sigmoid(k):   \n",
        "    inter=np.exp(-1*k)\n",
        "    final=1/(1+inter)\n",
        "    return final\n",
        "\n",
        "# derivative of sigmoid ############\n",
        "def der_sigmoid(out):\n",
        "    result = out * (1-out)\n",
        "    return result\n",
        "  \n",
        "# Relu               ########################\n",
        "def relu(x):    \n",
        "    return np.maximum(x, 0)\n",
        "def dRelu(z):\n",
        "    return np.where(z <= 0, 0, 1)\n",
        "\n",
        "# TanH and it's derivative #########\n",
        "def tanh(x):\n",
        "    return np.tanh(x)\n",
        "\n",
        "def tanh_deriv(x):\n",
        "    return 1.0 - np.tanh(x)**2"
      ],
      "execution_count": 0,
      "outputs": []
    },
    {
      "cell_type": "code",
      "metadata": {
        "id": "pwK3rS6ij4uR",
        "colab_type": "code",
        "colab": {}
      },
      "source": [
        "### Neural Network - Forward pass \n",
        "#### Intialization (2-layer network) #####\n",
        "####### You can configure the NetworK nodes here##### \n",
        "Input_data_dimension = 2\n",
        "output_node1 = 2\n",
        "output_node2 = 1\n",
        "####### Layer 1 #######\n",
        "Weight_1=np.random.rand(Input_data_dimension,output_node1)\n",
        "# bias initailization\n",
        "bias_1=np.zeros(output_node1)\n",
        "####### Layer 2 #######\n",
        "Weight_2 =np.random.rand(output_node1,output_node2)\n",
        "# bias initialization\n",
        "bias_2=np.zeros(output_node2)"
      ],
      "execution_count": 0,
      "outputs": []
    },
    {
      "cell_type": "code",
      "metadata": {
        "id": "FdPfDU4vy9OY",
        "colab_type": "code",
        "colab": {}
      },
      "source": [
        "###### This is the code for 2 layer Network #########\n",
        "####### Network Architecture is configurable ######\n",
        "def forward_pass(Data,Weight_1,bias_1,Weight_2,bias_2):\n",
        "     #print(output_node1)\n",
        "     Linear_1 = linear_block(Data,Weight_1,bias_1)\n",
        "     \n",
        "     Hidden_output_1 = sigmoid(Linear_1)\n",
        "     Linear_2 = linear_block(Hidden_output_1,Weight_2,bias_2)\n",
        "     Output_final =Linear_2\n",
        "     #print(Output_final.shape)\n",
        "     return Output_final,Hidden_output_1\n",
        "\n",
        "\n"
      ],
      "execution_count": 0,
      "outputs": []
    },
    {
      "cell_type": "markdown",
      "metadata": {
        "id": "PfFjyCGQxkg-",
        "colab_type": "text"
      },
      "source": [
        ""
      ]
    },
    {
      "cell_type": "code",
      "metadata": {
        "id": "Ega5xLtM1Y-_",
        "colab_type": "code",
        "colab": {}
      },
      "source": [
        "############### Back propagation to update the weights #############\n",
        "def Back_propagation(Data,Error,Intial_Weight_1,Intial_bias_1,Intial_Weight_2,Intial_bias_2,Hidden_output_1,Output_final): \n",
        "    #learning_rate=0.01\n",
        "    ############ We used backpropagation equat          ions derived in the class for mean squared error loss and sigmoid activation #####\n",
        "    delta_Weight_2 =np.dot(Hidden_output_1.T, Error)\n",
        "    #delta_Weight_2 =np.dot(Hidden_output_1.T, np.multiply(Error,Output_final))\n",
        "    delta_bias_2 = np.sum(Error,axis=0)\n",
        "\n",
        "    delta_h = np.multiply(np.dot(Error, Intial_Weight_2.T),der_sigmoid(Hidden_output_1)) \n",
        "\n",
        "    delta_Weight_1 = np.dot( Data.T,delta_h)\n",
        "\n",
        "    delta_bias_1 = np.sum(delta_h,axis=0)   \n",
        "\n",
        "    ######################################################################\n",
        "    #   updating parameters                                              #\n",
        "    ######################################################################\n",
        "    learning_rate=0.01\n",
        "    Updated_Weight_2 = Intial_Weight_2 - learning_rate * delta_Weight_2\n",
        "    Updated_bias_2 = Intial_bias_2 - learning_rate * delta_bias_2\n",
        "    Updated_Weight_1 =  Intial_Weight_1- learning_rate * delta_Weight_1\n",
        "    Updated_bias_1 = Intial_bias_1 - learning_rate * delta_bias_1\n",
        "    return Updated_Weight_1,Updated_bias_1,Updated_Weight_2,Updated_bias_2"
      ],
      "execution_count": 0,
      "outputs": []
    },
    {
      "cell_type": "code",
      "metadata": {
        "id": "XLujShvBj4uU",
        "colab_type": "code",
        "colab": {}
      },
      "source": [
        "def train(Data,Label,Test_data,Test_labels,Weight_1,Weight_2,bias_1,bias_2,epoch):\n",
        "    Total_train_loss=[]\n",
        "    Total_test_loss=[]\n",
        "    Number_of_datapoints =Data.shape[0]\n",
        "    Number_of_test_datapoints =Test_data.shape[0]\n",
        "    for i in range(epoch):\n",
        "        #### forward pass ##################################################\n",
        "        Output_final,Hidden_output_1 = forward_pass(Data,Weight_1,bias_1,Weight_2,bias_2)\n",
        "        ############### Computing the loss function #################\n",
        "        Squared_error_loss = np.sum(0.5*(Output_final-Label)**2)\n",
        "        Mean_squared_error_loss = Squared_error_loss / Number_of_datapoints\n",
        "        Error = Output_final- Label\n",
        "        #print(Error.shape)\n",
        "        Weight_1,bias_1, Weight_2,bias_2 = Back_propagation(Data,Error,Weight_1,bias_1,Weight_2,bias_2,Hidden_output_1,Output_final)\n",
        "        ############ Validation loss computation #######\n",
        "        \n",
        "        Output_Test,Hidden_output_val = forward_pass(Test_data,Weight_1,bias_1,Weight_2,bias_2)\n",
        "        \n",
        "\n",
        "        Test_loss=np.sum(0.5*(Test_labels-Output_Test)**2)\n",
        "        Test_loss/=Number_of_test_datapoints\n",
        "        Total_train_loss=np.append(Total_train_loss,Mean_squared_error_loss)\n",
        "        Total_test_loss=np.append(Total_test_loss,Test_loss)\n",
        "    return Total_train_loss,Total_test_loss,Weight_1,Weight_2,bias_1,bias_2"
      ],
      "execution_count": 0,
      "outputs": []
    },
    {
      "cell_type": "code",
      "metadata": {
        "id": "kucNA0PSj4uW",
        "colab_type": "code",
        "outputId": "1b6d8b45-618d-4342-b66c-f219b1e92199",
        "colab": {
          "base_uri": "https://localhost:8080/",
          "height": 318
        }
      },
      "source": [
        "######## training and validation loss ########\n",
        "epoch=700\n",
        "###### Number of data point you can configure #########\n",
        "Number_of_data_points  = 10\n",
        "Number_of_test_data_points = 10\n",
        "##### You can change any Gate configuration here #######\n",
        "y = y_xor\n",
        "Data,Label = get_training_data(x,y,Number_of_data_points)\n",
        "#print(Data.shape)\n",
        "#print(label.shape)\n",
        "Test_data,Test_labels = get_training_data(x,y,Number_of_test_data_points)\n",
        "Total_train_loss,Total_test_loss,Weight_1,Weight_2,bias_1,bias_2 =train(Data,Label,Test_data,Test_labels,Weight_1,Weight_2,bias_1,bias_2,epoch)\n",
        "print(Total_test_loss.shape)\n",
        "print(Total_train_loss.shape)\n",
        "plt.plot(range(epoch),Total_train_loss,label='train loss')\n",
        "plt.plot(range(epoch),Total_test_loss,label='test loss')\n",
        "plt.xlabel('loss')\n",
        "plt.ylabel('epoch')\n",
        "leg = plt.legend(loc=\"upper right\")\n"
      ],
      "execution_count": 13,
      "outputs": [
        {
          "output_type": "stream",
          "text": [
            "(700,)\n",
            "(700,)\n"
          ],
          "name": "stdout"
        },
        {
          "output_type": "display_data",
          "data": {
            "image/png": "[encoded data removed]",
            "text/plain": [
              "<Figure size 432x288 with 1 Axes>"
            ]
          },
          "metadata": {
            "tags": []
          }
        }
      ]
    },
    {
      "cell_type": "code",
      "metadata": {
        "id": "1rJBRP8r8-Xh",
        "colab_type": "code",
        "outputId": "9fddc795-b47e-4f4e-aec4-71c4ceef3878",
        "colab": {
          "base_uri": "https://localhost:8080/",
          "height": 156
        }
      },
      "source": [
        "### See the prediction ##########\n",
        "Prediction = np.array([[0.0,0.0], [0.0, 1.0], [1.0,0.0], [1.0,1.0]])\n",
        "Predicted_outputs,Hidden_output_val = forward_pass(Prediction,Weight_1,bias_1,Weight_2,bias_2)\n",
        "print(Predicted_outputs)\n",
        "Y_test = np.where(Predicted_outputs>0.5,1,0)\n",
        "print(Y_test)\n"
      ],
      "execution_count": 14,
      "outputs": [
        {
          "output_type": "stream",
          "text": [
            "[[0.06115181]\n",
            " [0.97672615]\n",
            " [0.98235937]\n",
            " [0.12356252]]\n",
            "[[0]\n",
            " [1]\n",
            " [1]\n",
            " [0]]\n"
          ],
          "name": "stdout"
        }
      ]
    },
    {
      "cell_type": "code",
      "metadata": {
        "id": "ozmnfIzxj4ua",
        "colab_type": "code",
        "outputId": "3c2754da-9d68-45ba-d478-7f174fd877da",
        "colab": {
          "base_uri": "https://localhost:8080/",
          "height": 34
        }
      },
      "source": [
        "########### Accuracy computation #################\n",
        "X_test,Y_test = get_training_data(x,y,15)\n",
        "Test_outputs,Hidden_output_val = forward_pass(X_test,Weight_1,bias_1,Weight_2,bias_2)\n",
        "#############\n",
        "Y_test_2 = np.where(Y_test>0.5,1,0)\n",
        "Y_test = np.where(Test_outputs>0.5,1,0)\n",
        "print(np.sum(Y_test_2==Y_test)/np.float(len(Y_test)))\n",
        "#print(Y_test)\n",
        "#print(Test_outputs)"
      ],
      "execution_count": 15,
      "outputs": [
        {
          "output_type": "stream",
          "text": [
            "1.0\n"
          ],
          "name": "stdout"
        }
      ]
    }
  ]
}